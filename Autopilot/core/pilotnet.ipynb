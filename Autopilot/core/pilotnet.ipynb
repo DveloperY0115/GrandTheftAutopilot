{
 "cells": [
  {
   "cell_type": "code",
   "execution_count": null,
   "metadata": {
    "collapsed": true
   },
   "outputs": [],
   "source": [
    "import tensorflow as tf\n",
    "\n",
    "from tensorflow.keras import models\n",
    "from tensorflow.keras.layers import Conv2D, Flatten, Dense, Dropout\n",
    "from tensorflow.keras.layers.experimental.preprocessing import Rescaling"
   ]
  },
  {
   "cell_type": "code",
   "execution_count": null,
   "outputs": [],
   "source": [
    "class pilotNet:\n",
    "\n",
    "    def __init__(self, drop_out_rate):\n",
    "        \"\"\"\n",
    "        Create and initialize pilotNet for vehicle control\n",
    "        \"\"\"\n",
    "        self.drop_out_rate = drop_out_rate\n",
    "        self.model = models.Sequential()\n",
    "        self.model.add(Rescaling(scale=1./255))\n",
    "\n",
    "        # three Conv2D layers with 5 x 5 kernels, and 2 x 2 strides\n",
    "        self.model.add(Conv2D(filters=24, kernel_size=(5, 5), strides=(2, 2),\n",
    "                              padding='valid', activation='relu', input_shape=(1, 200, 66, 3)))\n",
    "        self.model.add(Conv2D(filters=36, kernel_size=(5, 5), strides=(2, 2),\n",
    "                              padding='valid', activation='relu'))\n",
    "        self.model.add(Conv2D(filters=48, kernel_size=(5, 5), strides=(2, 2),\n",
    "                              padding='valid', activation='relu'))\n",
    "\n",
    "        # two Conv2D layers with 3 x 3 kernels, and no strides\n",
    "        self.model.add(Conv2D(filters=64, kernel_size=(3, 3),\n",
    "                              padding='valid', activation='relu'))\n",
    "        self.model.add(Conv2D(filters=64, kernel_size=(3, 3),\n",
    "                              padding='valid', activation='relu'))\n",
    "\n",
    "        # and data flows to three fully-connected layers\n",
    "        self.model.add(Flatten())   # (None, 1152)\n",
    "        self.model.add(Dense(units=1164))\n",
    "        self.model.add(Dropout(rate=self.drop_out_rate))\n",
    "        self.model.add(Dense(units=100))\n",
    "        self.model.add(Dropout(rate=self.drop_out_rate))\n",
    "        self.model.add(Dense(units=50))\n",
    "        self.model.add(Dropout(rate=self.drop_out_rate))\n",
    "        self.model.add(Dense(units=10))\n",
    "        self.model.add(Dropout(rate=self.drop_out_rate))\n",
    "        self.model.add(Dense(units=1))\n",
    "\n",
    "        # build the pilotNet model\n",
    "        self.model.build(input_shape=(1, 200, 66, 3))\n",
    "\n",
    "        self.model.summary()\n",
    "\n",
    "\n",
    "    def __call__(self, X):\n",
    "        \"\"\"\n",
    "        An alternative to call function 'predict' via Python special method\n",
    "        :param args:\n",
    "        :param kwargs:\n",
    "        :return:\n",
    "        \"\"\"\n",
    "        return self.predict(X)\n",
    "\n",
    "    def predict(self, X):\n",
    "        \"\"\"\n",
    "        Predict the steering angle based on the input image\n",
    "        :param args:\n",
    "        :param kwargs:\n",
    "        :return:\n",
    "        \"\"\"\n",
    "\n",
    "        return self.model.predict(X)"
   ],
   "metadata": {
    "collapsed": false,
    "pycharm": {
     "name": "#%%\n"
    }
   }
  }
 ],
 "metadata": {
  "kernelspec": {
   "display_name": "Python 3",
   "language": "python",
   "name": "python3"
  },
  "language_info": {
   "codemirror_mode": {
    "name": "ipython",
    "version": 2
   },
   "file_extension": ".py",
   "mimetype": "text/x-python",
   "name": "python",
   "nbconvert_exporter": "python",
   "pygments_lexer": "ipython2",
   "version": "2.7.6"
  }
 },
 "nbformat": 4,
 "nbformat_minor": 0
}