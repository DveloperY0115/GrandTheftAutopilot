{
 "cells": [
  {
   "cell_type": "markdown",
   "metadata": {
    "id": "eL6vLyIElvwD"
   },
   "source": [
    "# PilotNet training"
   ]
  },
  {
   "cell_type": "markdown",
   "metadata": {
    "id": "Qk_e_HzMc2df"
   },
   "source": [
    "## Import modules"
   ]
  },
  {
   "cell_type": "code",
   "execution_count": 1,
   "metadata": {
    "id": "s5hJwANvl35F"
   },
   "outputs": [],
   "source": [
    "import os\n",
    "import pandas as pd\n",
    "import numpy as np\n",
    "import sklearn\n",
    "import glob\n",
    "import cv2\n",
    "import matplotlib.pyplot as plt\n",
    "from PIL import Image"
   ]
  },
  {
   "cell_type": "markdown",
   "metadata": {},
   "source": [
    "## [TODO] Designate path to datasets"
   ]
  },
  {
   "cell_type": "code",
   "execution_count": null,
   "metadata": {},
   "outputs": [],
   "source": []
  },
  {
   "cell_type": "markdown",
   "metadata": {
    "id": "DBEVjkEjlnuZ"
   },
   "source": [
    "## Define Preprocessing Pipeline"
   ]
  },
  {
   "cell_type": "code",
   "execution_count": 2,
   "metadata": {
    "id": "APw29y97AZgF"
   },
   "outputs": [],
   "source": [
    "import tensorflow as tf\n",
    "\n",
    "# Keras implemented with TF backend\n",
    "from tensorflow.keras import models\n",
    "from tensorflow.keras.layers import Conv2D, Flatten, Dense, Dropout, BatchNormalization\n",
    "from tensorflow.keras.optimizers import SGD\n",
    "from tensorflow.keras.preprocessing.image import ImageDataGenerator, load_img, img_to_array\n",
    "from tensorflow.keras.callbacks import CSVLogger, ModelCheckpoint"
   ]
  },
  {
   "cell_type": "code",
   "execution_count": 3,
   "metadata": {
    "id": "juim2r12TWaW"
   },
   "outputs": [],
   "source": [
    "# define custom scikit-learn estimator & transformer performing MinMaxScaling on each channels\n",
    "from sklearn.base import BaseEstimator, TransformerMixin\n",
    "from sklearn.utils import shuffle\n",
    "\n",
    "class ImageMinMaxScaler(BaseEstimator, TransformerMixin):\n",
    "\n",
    "  def __init__(self):\n",
    "    return\n",
    "\n",
    "  def fit(self, X=None, y=None):\n",
    "    return self\n",
    "    \n",
    "  def transform(self, X, y=None):\n",
    "    # scale every pixel value to fit in [0, 1]\n",
    "    result = X / 255\n",
    "\n",
    "    return result\n",
    "\n",
    "  def fit_transform(self, X, y=None):\n",
    "    self.fit()\n",
    "\n",
    "    result = self.transform(X)\n",
    "    return result"
   ]
  },
  {
   "cell_type": "code",
   "execution_count": 4,
   "metadata": {
    "id": "y0QIKZAvnM13"
   },
   "outputs": [],
   "source": [
    "# define custom scikit-learn estimator & transformer resizing given image\n",
    "from sklearn.base import BaseEstimator, TransformerMixin\n",
    "\n",
    "class ImageResizer(TransformerMixin):\n",
    "\n",
    "  def __init__(self, target_size=(200, 66)):\n",
    "      self.target_size = target_size\n",
    "      return\n",
    "\n",
    "  def fit(self, X=None, y=None):\n",
    "      return self\n",
    "\n",
    "  def transform(self, X):\n",
    "      result = cv2.resize(X, self.target_size, interpolation=cv2.INTER_AREA)\n",
    "      return np.swapaxes(result, axis1=0, axis2=1)\n",
    "\n",
    "  def fit_transform(self, X, y=None):\n",
    "      return self.transform(X)"
   ]
  },
  {
   "cell_type": "code",
   "execution_count": 5,
   "metadata": {
    "id": "61D4s1vsRAm9"
   },
   "outputs": [],
   "source": [
    "from sklearn.pipeline import Pipeline\n",
    "\n",
    "pipe = Pipeline([                     \n",
    "                     ('ImageMinMaxScaler', ImageMinMaxScaler()), # scales the pixel values to range [0, 1]\n",
    "                     ('ImageResizer', ImageResizer())  # resizes given image to match the input layer size of the NN\n",
    "\n",
    "])"
   ]
  },
  {
   "cell_type": "markdown",
   "metadata": {
    "id": "ALqJ3oLis-3R"
   },
   "source": [
    "## Define Custom dataloader"
   ]
  },
  {
   "cell_type": "code",
   "execution_count": 86,
   "metadata": {
    "id": "aQcQaVsDtB1I"
   },
   "outputs": [],
   "source": [
    "import os\n",
    "import pathlib\n",
    "import math\n",
    "\n",
    "from tensorflow.keras.utils import Sequence\n",
    "\n",
    "class Dataloader(Sequence):\n",
    "    \n",
    "  def __init__(self, dataset_dir, batch_size=32, shuffle=False):\n",
    "    # initialize basic member variables\n",
    "    self.dataset_dir = pathlib.Path(dataset_dir)\n",
    "    self.shuffle= shuffle\n",
    "    self.batch_size = batch_size\n",
    "    \n",
    "    # make list of files\n",
    "    self.file_names = []\n",
    "    for root, dirs, files in os.walk(self.dataset_dir):\n",
    "        for file in files:\n",
    "            if file.endswith('.jpg'):\n",
    "                self.file_names.append(file)\n",
    "    \n",
    "    self.num_img = len(self.file_names)\n",
    "    \n",
    "    # set directory storing images\n",
    "    self.x_path = \"./\" + str(self.dataset_dir) + \"/imgs\"\n",
    "    \n",
    "    # read labels from CSV file in the directory\n",
    "    csv_path = str(self.dataset_dir) + \"/\" + \"dataset.csv\"\n",
    "    df_temp = pd.read_csv(csv_path)\n",
    "    self.y = df_temp['control'].to_numpy()\n",
    "    \n",
    "    # initialize indices once\n",
    "    self.on_epoch_end()\n",
    "    \n",
    "  def __len__(self):\n",
    "    return math.ceil(self.num_img / self.batch_size)\n",
    "\n",
    "  def __getitem__(self, idx):\n",
    "        \n",
    "        batch_indices = self.indices[idx * self.batch_size : (idx + 1) * self.batch_size]\n",
    "        \n",
    "        # empty batch\n",
    "        batch_x = []\n",
    "        batch_y = []\n",
    "        \n",
    "        # generate batch \n",
    "        for i in batch_indices:\n",
    "            img_path = self.x_path + \"/\" + self.file_names[i]\n",
    "            img = load_img(img_path, color_mode='rgb', target_size=(66, 200))\n",
    "            img_arr = img_to_array(img) / 255 \n",
    "            img_arr = np.swapaxes(img_arr, 1, 0)\n",
    "            batch_x.append(img_arr)\n",
    "            batch_y.append(self.y[i])\n",
    "        \n",
    "        return np.array(batch_x), np.array(batch_y)\n",
    "    \n",
    "  def on_epoch_end(self):\n",
    "    self.indices = np.arange(self.num_img)\n",
    "    if self.shuffle == True:\n",
    "        np.random.shuffle(self.indices)\n",
    "        "
   ]
  },
  {
   "cell_type": "code",
   "execution_count": 87,
   "metadata": {
    "scrolled": false
   },
   "outputs": [
    {
     "name": "stdout",
     "output_type": "stream",
     "text": [
      "['S' 'S' 'W' ... 'W' nan nan] (10780,) 7151\n"
     ]
    }
   ],
   "source": [
    "test_path = \"./dataset-drive/210119_12-14-48_data\"\n",
    "\n",
    "test_loader = Dataloader(test_path)\n",
    "print(test_loader.y, test_loader.y.shape, test_loader.num_img)\n",
    "\n",
    "batch_x, batch_y = test_loader[0]   # test: get 0th batch"
   ]
  },
  {
   "cell_type": "code",
   "execution_count": 88,
   "metadata": {},
   "outputs": [],
   "source": [
    "%matplotlib inline"
   ]
  },
  {
   "cell_type": "code",
   "execution_count": 89,
   "metadata": {},
   "outputs": [
    {
     "data": {
      "image/png": "[encoded data removed]",
      "text/plain": [
       "<Figure size 432x288 with 1 Axes>"
      ]
     },
     "metadata": {
      "needs_background": "light"
     },
     "output_type": "display_data"
    }
   ],
   "source": [
    "import matplotlib.pyplot as plt\n",
    "import matplotlib.image as mpimg\n",
    "\n",
    "imgplt = plt.imshow(batch_x[0])"
   ]
  },
  {
   "cell_type": "code",
   "execution_count": 7,
   "metadata": {
    "id": "POkakZB-DoQF"
   },
   "outputs": [],
   "source": [
    "def img_to_arr(p):\n",
    "    with image.load_img(p) as img:\n",
    "        img = image.img_to_array(img)\n",
    "    return img"
   ]
  },
  {
   "cell_type": "code",
   "execution_count": null,
   "metadata": {
    "id": "FzB_Xsq3d6Ji"
   },
   "outputs": [],
   "source": [
    "target_dataset = \"/content/drive/MyDrive/AutopilotDrive/dataset/\"\n",
    "df = pd.read_csv(target_dataset + \"/datasets_mod.csv\")"
   ]
  },
  {
   "cell_type": "code",
   "execution_count": null,
   "metadata": {
    "id": "AqgNmcpgeMHi"
   },
   "outputs": [],
   "source": [
    "from keras.preprocessing import image\n",
    "from keras.preprocessing.image import ImageDataGenerator,load_img,img_to_array # Image Related\n",
    "\n",
    "random_indices = np.random.randint(low=0, high=len(df), size=100)\n",
    "\n",
    "X_train = np.array([img_to_arr(target_dataset + \"../\" + image_name) for image_name in df['drive_view'].iloc[random_indices]])"
   ]
  },
  {
   "cell_type": "code",
   "execution_count": null,
   "metadata": {
    "id": "MVfQrl7FIQJs"
   },
   "outputs": [],
   "source": [
    "from sklearn.preprocessing import StandardScaler\n",
    "\n",
    "for i in range(len(random_indices)):\n",
    "    scaler_R = StandardScaler().fit(X_train[i][:,:,0])\n",
    "    scaler_G = StandardScaler().fit(X_train[i][:,:,1])\n",
    "    scaler_B = StandardScaler().fit(X_train[i][:,:,2])\n",
    "\n",
    "def normalize(img):\n",
    "    img[:,:,0] = scaler_R.transform(img[:,:,0])\n",
    "    img[:,:,1] = scaler_G.transform(img[:,:,1])\n",
    "    img[:,:,2] = scaler_B.transform(img[:,:,2])\n",
    "    return img"
   ]
  },
  {
   "cell_type": "code",
   "execution_count": null,
   "metadata": {
    "id": "b_h4pmPf_qd_"
   },
   "outputs": [],
   "source": [
    "# define generator that loops through the data\n",
    "def generator(df, batch_size, img_shape, should_shuffle):\n",
    "    # shuffle dataframe for each epoch\n",
    "    if should_shuffle:\n",
    "        df = shuffle(df)\n",
    "        \n",
    "    img_list = df['drive_view']\n",
    "    steer = df['control']\n",
    "    \n",
    "    # create empty batch\n",
    "    batch_img = np.zeros((batch_size,) + img_shape)\n",
    "    batch_label = np.zeros((batch_size, 1))\n",
    "    \n",
    "    index = 0\n",
    "    while True:\n",
    "        for i in range(batch_size):\n",
    "            img_name = img_list[index]\n",
    "            arr = img_to_arr(target_dataset + \"../\" + img_name)\n",
    "            \n",
    "            batch_img[i] = normalize(arr, scaler_R, scaler_G, scaler_B)\n",
    "            batch_label[i] = steer[index]\n",
    "            \n",
    "            index += 1\n",
    "            if index == len(img_list):\n",
    "                index = 0\n",
    "            \n",
    "        yield batch_img, batch_label"
   ]
  },
  {
   "cell_type": "code",
   "execution_count": null,
   "metadata": {
    "colab": {
     "base_uri": "https://localhost:8080/",
     "height": 204
    },
    "id": "zGN7iNorsw3p",
    "outputId": "784a97da-d8ac-4dfc-9d14-c6c10754ebd5"
   },
   "outputs": [
    {
     "data": {
      "text/html": [
       "<div>\n",
       "<style scoped>\n",
       "    .dataframe tbody tr th:only-of-type {\n",
       "        vertical-align: middle;\n",
       "    }\n",
       "\n",
       "    .dataframe tbody tr th {\n",
       "        vertical-align: top;\n",
       "    }\n",
       "\n",
       "    .dataframe thead th {\n",
       "        text-align: right;\n",
       "    }\n",
       "</style>\n",
       "<table border=\"1\" class=\"dataframe\">\n",
       "  <thead>\n",
       "    <tr style=\"text-align: right;\">\n",
       "      <th></th>\n",
       "      <th>Unnamed: 0</th>\n",
       "      <th>Unnamed: 0.1</th>\n",
       "      <th>Unnamed: 0.1.1</th>\n",
       "      <th>drive_view</th>\n",
       "      <th>control</th>\n",
       "    </tr>\n",
       "  </thead>\n",
       "  <tbody>\n",
       "    <tr>\n",
       "      <th>0</th>\n",
       "      <td>0</td>\n",
       "      <td>0</td>\n",
       "      <td>1</td>\n",
       "      <td>./dataset/210119_12-14-48_data/imgs/drive_view...</td>\n",
       "      <td>3</td>\n",
       "    </tr>\n",
       "    <tr>\n",
       "      <th>1</th>\n",
       "      <td>1</td>\n",
       "      <td>1</td>\n",
       "      <td>2</td>\n",
       "      <td>./dataset/210119_12-14-48_data/imgs/drive_view...</td>\n",
       "      <td>3</td>\n",
       "    </tr>\n",
       "    <tr>\n",
       "      <th>2</th>\n",
       "      <td>2</td>\n",
       "      <td>2</td>\n",
       "      <td>3</td>\n",
       "      <td>./dataset/210119_12-14-48_data/imgs/drive_view...</td>\n",
       "      <td>1</td>\n",
       "    </tr>\n",
       "    <tr>\n",
       "      <th>3</th>\n",
       "      <td>3</td>\n",
       "      <td>3</td>\n",
       "      <td>4</td>\n",
       "      <td>./dataset/210119_12-14-48_data/imgs/drive_view...</td>\n",
       "      <td>1</td>\n",
       "    </tr>\n",
       "    <tr>\n",
       "      <th>4</th>\n",
       "      <td>4</td>\n",
       "      <td>4</td>\n",
       "      <td>5</td>\n",
       "      <td>./dataset/210119_12-14-48_data/imgs/drive_view...</td>\n",
       "      <td>1</td>\n",
       "    </tr>\n",
       "  </tbody>\n",
       "</table>\n",
       "</div>"
      ],
      "text/plain": [
       "   Unnamed: 0  ...  control\n",
       "0           0  ...        3\n",
       "1           1  ...        3\n",
       "2           2  ...        1\n",
       "3           3  ...        1\n",
       "4           4  ...        1\n",
       "\n",
       "[5 rows x 5 columns]"
      ]
     },
     "execution_count": 24,
     "metadata": {
      "tags": []
     },
     "output_type": "execute_result"
    }
   ],
   "source": [
    "df.head()"
   ]
  },
  {
   "cell_type": "code",
   "execution_count": null,
   "metadata": {
    "id": "ab6f1B2yAtD9"
   },
   "outputs": [],
   "source": [
    "from sklearn.model_selection import train_test_split\n",
    "\n",
    "df_train, df_valid = train_test_split(df, test_size = 0.2)"
   ]
  },
  {
   "cell_type": "code",
   "execution_count": null,
   "metadata": {
    "colab": {
     "base_uri": "https://localhost:8080/",
     "height": 204
    },
    "id": "pgaDuBDgEQy3",
    "outputId": "9b29c9b6-2931-43b9-be08-154df9aba1de"
   },
   "outputs": [
    {
     "data": {
      "text/html": [
       "<div>\n",
       "<style scoped>\n",
       "    .dataframe tbody tr th:only-of-type {\n",
       "        vertical-align: middle;\n",
       "    }\n",
       "\n",
       "    .dataframe tbody tr th {\n",
       "        vertical-align: top;\n",
       "    }\n",
       "\n",
       "    .dataframe thead th {\n",
       "        text-align: right;\n",
       "    }\n",
       "</style>\n",
       "<table border=\"1\" class=\"dataframe\">\n",
       "  <thead>\n",
       "    <tr style=\"text-align: right;\">\n",
       "      <th></th>\n",
       "      <th>Unnamed: 0</th>\n",
       "      <th>Unnamed: 0.1</th>\n",
       "      <th>Unnamed: 0.1.1</th>\n",
       "      <th>drive_view</th>\n",
       "      <th>control</th>\n",
       "    </tr>\n",
       "  </thead>\n",
       "  <tbody>\n",
       "    <tr>\n",
       "      <th>17391</th>\n",
       "      <td>19245</td>\n",
       "      <td>8465</td>\n",
       "      <td>19246</td>\n",
       "      <td>./dataset/210119_12-16-36_data/imgs/drive_view...</td>\n",
       "      <td>0</td>\n",
       "    </tr>\n",
       "    <tr>\n",
       "      <th>17524</th>\n",
       "      <td>19378</td>\n",
       "      <td>8598</td>\n",
       "      <td>19379</td>\n",
       "      <td>./dataset/210119_12-16-36_data/imgs/drive_view...</td>\n",
       "      <td>1</td>\n",
       "    </tr>\n",
       "    <tr>\n",
       "      <th>64483</th>\n",
       "      <td>72823</td>\n",
       "      <td>2562</td>\n",
       "      <td>72824</td>\n",
       "      <td>./dataset/210126_07-25-00_data/imgs/drive_view...</td>\n",
       "      <td>1</td>\n",
       "    </tr>\n",
       "    <tr>\n",
       "      <th>1974</th>\n",
       "      <td>2157</td>\n",
       "      <td>2157</td>\n",
       "      <td>2158</td>\n",
       "      <td>./dataset/210119_12-14-48_data/imgs/drive_view...</td>\n",
       "      <td>1</td>\n",
       "    </tr>\n",
       "    <tr>\n",
       "      <th>26831</th>\n",
       "      <td>28685</td>\n",
       "      <td>562</td>\n",
       "      <td>28686</td>\n",
       "      <td>./dataset/210119_12-24-51_data/imgs/drive_view...</td>\n",
       "      <td>0</td>\n",
       "    </tr>\n",
       "  </tbody>\n",
       "</table>\n",
       "</div>"
      ],
      "text/plain": [
       "       Unnamed: 0  ...  control\n",
       "17391       19245  ...        0\n",
       "17524       19378  ...        1\n",
       "64483       72823  ...        1\n",
       "1974         2157  ...        1\n",
       "26831       28685  ...        0\n",
       "\n",
       "[5 rows x 5 columns]"
      ]
     },
     "execution_count": 26,
     "metadata": {
      "tags": []
     },
     "output_type": "execute_result"
    }
   ],
   "source": [
    "df_train.head()"
   ]
  },
  {
   "cell_type": "code",
   "execution_count": null,
   "metadata": {
    "colab": {
     "base_uri": "https://localhost:8080/",
     "height": 35
    },
    "id": "Fb3rXnWHEWvs",
    "outputId": "e10983ff-0584-4ae7-9642-5ebff5bc29a2"
   },
   "outputs": [
    {
     "data": {
      "application/vnd.google.colaboratory.intrinsic+json": {
       "type": "string"
      },
      "text/plain": [
       "'./dataset/210119_12-16-36_data/imgs/drive_view8465.jpg'"
      ]
     },
     "execution_count": 27,
     "metadata": {
      "tags": []
     },
     "output_type": "execute_result"
    }
   ],
   "source": [
    "df_train['drive_view'].iloc[0]"
   ]
  },
  {
   "cell_type": "code",
   "execution_count": null,
   "metadata": {
    "colab": {
     "base_uri": "https://localhost:8080/"
    },
    "id": "N8Zqjk3aAak1",
    "outputId": "1102f003-5b5e-48c4-c0d8-cf5579257f7f"
   },
   "outputs": [
    {
     "name": "stdout",
     "output_type": "stream",
     "text": [
      "input_shape: (256, 455, 3), batch_size: 32, train_steps: 1775, val_steps: 444\n"
     ]
    }
   ],
   "source": [
    "sample_image = img_to_arr(target_dataset + \"../\" + df_train['drive_view'].iloc[0])\n",
    "input_shape = sample_image.shape\n",
    "batch_size = 32\n",
    "train_steps = (df_train.shape[0] / batch_size) + 1\n",
    "val_steps = (df_valid.shape[0] / batch_size) + 1\n",
    "\n",
    "print(\"input_shape: %s, batch_size: %d, train_steps: %d, val_steps: %d\" % \n",
    "      (input_shape, batch_size, train_steps, val_steps))"
   ]
  },
  {
   "cell_type": "code",
   "execution_count": null,
   "metadata": {
    "id": "f3tjsRo-BadG"
   },
   "outputs": [],
   "source": [
    "train_batch = generator(df_train, batch_size, input_shape, True)\n",
    "val_batch = generator(df_valid, batch_size, input_shape, False)"
   ]
  },
  {
   "cell_type": "markdown",
   "metadata": {
    "id": "EkhDzeinlicQ"
   },
   "source": [
    "# Define Sequential Model"
   ]
  },
  {
   "cell_type": "code",
   "execution_count": null,
   "metadata": {
    "colab": {
     "base_uri": "https://localhost:8080/"
    },
    "id": "16xeasSVL1mK",
    "outputId": "aab263b2-fb87-4da7-b158-e9a1f81e7b1c",
    "scrolled": true
   },
   "outputs": [
    {
     "name": "stdout",
     "output_type": "stream",
     "text": [
      "Model: \"sequential\"\n",
      "_________________________________________________________________\n",
      "Layer (type)                 Output Shape              Param #   \n",
      "=================================================================\n",
      "conv2d (Conv2D)              (None, 98, 31, 24)        1824      \n",
      "_________________________________________________________________\n",
      "conv2d_1 (Conv2D)            (None, 47, 14, 36)        21636     \n",
      "_________________________________________________________________\n",
      "conv2d_2 (Conv2D)            (None, 22, 5, 48)         43248     \n",
      "_________________________________________________________________\n",
      "conv2d_3 (Conv2D)            (None, 20, 3, 64)         27712     \n",
      "_________________________________________________________________\n",
      "conv2d_4 (Conv2D)            (None, 18, 1, 64)         36928     \n",
      "_________________________________________________________________\n",
      "flatten (Flatten)            (None, 1152)              0         \n",
      "_________________________________________________________________\n",
      "dense (Dense)                (None, 1152)              1328256   \n",
      "_________________________________________________________________\n",
      "dropout (Dropout)            (None, 1152)              0         \n",
      "_________________________________________________________________\n",
      "dense_1 (Dense)              (None, 100)               115300    \n",
      "_________________________________________________________________\n",
      "dropout_1 (Dropout)          (None, 100)               0         \n",
      "_________________________________________________________________\n",
      "dense_2 (Dense)              (None, 50)                5050      \n",
      "_________________________________________________________________\n",
      "dropout_2 (Dropout)          (None, 50)                0         \n",
      "_________________________________________________________________\n",
      "dense_3 (Dense)              (None, 10)                510       \n",
      "_________________________________________________________________\n",
      "dropout_3 (Dropout)          (None, 10)                0         \n",
      "_________________________________________________________________\n",
      "dense_4 (Dense)              (None, 5)                 55        \n",
      "=================================================================\n",
      "Total params: 1,580,519\n",
      "Trainable params: 1,580,519\n",
      "Non-trainable params: 0\n",
      "_________________________________________________________________\n"
     ]
    }
   ],
   "source": [
    "drop_out_rate = 0.2\n",
    "\n",
    "model = models.Sequential()\n",
    "# model.add(Rescaling(scale=1./255))\n",
    "\n",
    "# three Conv2D layers with 5 x 5 kernels, and 2 x 2 strides\n",
    "model.add(Conv2D(filters=24, kernel_size=(5, 5), strides=(2, 2),\n",
    "                              padding='valid', activation='relu', input_shape=(200, 66, 3)))\n",
    "model.add(Conv2D(filters=36, kernel_size=(5, 5), strides=(2, 2),\n",
    "                              padding='valid', activation='relu'))\n",
    "model.add(Conv2D(filters=48, kernel_size=(5, 5), strides=(2, 2),\n",
    "                              padding='valid', activation='relu'))\n",
    "\n",
    "# two Conv2D layers with 3 x 3 kernels, and no strides\n",
    "model.add(Conv2D(filters=64, kernel_size=(3, 3),\n",
    "                              padding='valid', activation='relu'))\n",
    "model.add(Conv2D(filters=64, kernel_size=(3, 3),\n",
    "                              padding='valid', activation='relu'))\n",
    "\n",
    "# and data flows to three fully-connected layers\n",
    "model.add(Flatten())   # (None, 1152)\n",
    "model.add(Dense(units=1152))\n",
    "model.add(Dropout(rate=drop_out_rate))\n",
    "model.add(Dense(units=100))\n",
    "model.add(Dropout(rate=drop_out_rate))\n",
    "model.add(Dense(units=50))\n",
    "model.add(Dropout(rate=drop_out_rate))\n",
    "model.add(Dense(units=10))\n",
    "model.add(Dropout(rate=drop_out_rate))\n",
    "model.add(Dense(units=5, activation='softmax'))\n",
    "\n",
    "# build the pilotNet model\n",
    "model.build(input_shape=(None, 200, 66, 3))\n",
    "\n",
    "model.summary()"
   ]
  },
  {
   "cell_type": "code",
   "execution_count": null,
   "metadata": {
    "id": "6Po1fP6_L6a2"
   },
   "outputs": [],
   "source": [
    "model.compile(optimizer='adam',\n",
    "                loss='cross_entropy',\n",
    "                metrics=['f1_score'])"
   ]
  },
  {
   "cell_type": "code",
   "execution_count": null,
   "metadata": {
    "id": "v5TLazMtC8Bl"
   },
   "outputs": [],
   "source": [
    "model_path = target_dataset + \"/model\"\n",
    "# define callbacks\n",
    "cur_model = 'PilotNet_v1'\n",
    "csv_logger = CSVLogger(os.path.join(\"./\", cur_model + '.log'))\n",
    "\n",
    "model_file_name= os.path.join(model_path, cur_model + '-{epoch:03d}-{val_loss:.5f}.h5')\n",
    "checkpoint = ModelCheckpoint(model_file_name, verbose=0, save_best_only=True)"
   ]
  },
  {
   "cell_type": "code",
   "execution_count": null,
   "metadata": {
    "colab": {
     "base_uri": "https://localhost:8080/"
    },
    "id": "T_BfVlnFDEWs",
    "outputId": "a8528f00-b1d2-40a2-9014-905c9a2a8681"
   },
   "outputs": [
    {
     "name": "stdout",
     "output_type": "stream",
     "text": [
      "<class 'generator'>\n"
     ]
    }
   ],
   "source": [
    "print(type(train_batch))"
   ]
  },
  {
   "cell_type": "code",
   "execution_count": null,
   "metadata": {
    "colab": {
     "base_uri": "https://localhost:8080/",
     "height": 394
    },
    "id": "BiEsMSXhDJJ0",
    "outputId": "6e442103-2299-471b-a1f2-b68b8d92ccb7"
   },
   "outputs": [
    {
     "name": "stderr",
     "output_type": "stream",
     "text": [
      "/usr/local/lib/python3.6/dist-packages/tensorflow/python/keras/engine/training.py:1844: UserWarning: `Model.fit_generator` is deprecated and will be removed in a future version. Please use `Model.fit`, which supports generators.\n",
      "  warnings.warn('`Model.fit_generator` is deprecated and '\n"
     ]
    },
    {
     "ename": "StopIteration",
     "evalue": "ignored",
     "output_type": "error",
     "traceback": [
      "\u001b[0;31m---------------------------------------------------------------------------\u001b[0m",
      "\u001b[0;31mStopIteration\u001b[0m                             Traceback (most recent call last)",
      "\u001b[0;32m<ipython-input-37-4cf42d7624dd>\u001b[0m in \u001b[0;36m<module>\u001b[0;34m()\u001b[0m\n\u001b[1;32m      2\u001b[0m                     \u001b[0mcallbacks\u001b[0m\u001b[0;34m=\u001b[0m\u001b[0;34m[\u001b[0m\u001b[0mcsv_logger\u001b[0m\u001b[0;34m,\u001b[0m \u001b[0mcheckpoint\u001b[0m\u001b[0;34m]\u001b[0m\u001b[0;34m,\u001b[0m\u001b[0;34m\u001b[0m\u001b[0;34m\u001b[0m\u001b[0m\n\u001b[1;32m      3\u001b[0m                     \u001b[0mvalidation_data\u001b[0m\u001b[0;34m=\u001b[0m\u001b[0mval_batch\u001b[0m\u001b[0;34m,\u001b[0m\u001b[0;34m\u001b[0m\u001b[0;34m\u001b[0m\u001b[0m\n\u001b[0;32m----> 4\u001b[0;31m                     validation_steps=val_steps)\n\u001b[0m",
      "\u001b[0;32m/usr/local/lib/python3.6/dist-packages/tensorflow/python/keras/engine/training.py\u001b[0m in \u001b[0;36mfit_generator\u001b[0;34m(self, generator, steps_per_epoch, epochs, verbose, callbacks, validation_data, validation_steps, validation_freq, class_weight, max_queue_size, workers, use_multiprocessing, shuffle, initial_epoch)\u001b[0m\n\u001b[1;32m   1859\u001b[0m         \u001b[0muse_multiprocessing\u001b[0m\u001b[0;34m=\u001b[0m\u001b[0muse_multiprocessing\u001b[0m\u001b[0;34m,\u001b[0m\u001b[0;34m\u001b[0m\u001b[0;34m\u001b[0m\u001b[0m\n\u001b[1;32m   1860\u001b[0m         \u001b[0mshuffle\u001b[0m\u001b[0;34m=\u001b[0m\u001b[0mshuffle\u001b[0m\u001b[0;34m,\u001b[0m\u001b[0;34m\u001b[0m\u001b[0;34m\u001b[0m\u001b[0m\n\u001b[0;32m-> 1861\u001b[0;31m         initial_epoch=initial_epoch)\n\u001b[0m\u001b[1;32m   1862\u001b[0m \u001b[0;34m\u001b[0m\u001b[0m\n\u001b[1;32m   1863\u001b[0m   def evaluate_generator(self,\n",
      "\u001b[0;32m/usr/local/lib/python3.6/dist-packages/tensorflow/python/keras/engine/training.py\u001b[0m in \u001b[0;36mfit\u001b[0;34m(self, x, y, batch_size, epochs, verbose, callbacks, validation_split, validation_data, shuffle, class_weight, sample_weight, initial_epoch, steps_per_epoch, validation_steps, validation_batch_size, validation_freq, max_queue_size, workers, use_multiprocessing)\u001b[0m\n\u001b[1;32m   1062\u001b[0m           \u001b[0muse_multiprocessing\u001b[0m\u001b[0;34m=\u001b[0m\u001b[0muse_multiprocessing\u001b[0m\u001b[0;34m,\u001b[0m\u001b[0;34m\u001b[0m\u001b[0;34m\u001b[0m\u001b[0m\n\u001b[1;32m   1063\u001b[0m           \u001b[0mmodel\u001b[0m\u001b[0;34m=\u001b[0m\u001b[0mself\u001b[0m\u001b[0;34m,\u001b[0m\u001b[0;34m\u001b[0m\u001b[0;34m\u001b[0m\u001b[0m\n\u001b[0;32m-> 1064\u001b[0;31m           steps_per_execution=self._steps_per_execution)\n\u001b[0m\u001b[1;32m   1065\u001b[0m \u001b[0;34m\u001b[0m\u001b[0m\n\u001b[1;32m   1066\u001b[0m       \u001b[0;31m# Container that configures and calls `tf.keras.Callback`s.\u001b[0m\u001b[0;34m\u001b[0m\u001b[0;34m\u001b[0m\u001b[0;34m\u001b[0m\u001b[0m\n",
      "\u001b[0;32m/usr/local/lib/python3.6/dist-packages/tensorflow/python/keras/engine/data_adapter.py\u001b[0m in \u001b[0;36m__init__\u001b[0;34m(self, x, y, sample_weight, batch_size, steps_per_epoch, initial_epoch, epochs, shuffle, class_weight, max_queue_size, workers, use_multiprocessing, model, steps_per_execution)\u001b[0m\n\u001b[1;32m   1110\u001b[0m         \u001b[0muse_multiprocessing\u001b[0m\u001b[0;34m=\u001b[0m\u001b[0muse_multiprocessing\u001b[0m\u001b[0;34m,\u001b[0m\u001b[0;34m\u001b[0m\u001b[0;34m\u001b[0m\u001b[0m\n\u001b[1;32m   1111\u001b[0m         \u001b[0mdistribution_strategy\u001b[0m\u001b[0;34m=\u001b[0m\u001b[0mds_context\u001b[0m\u001b[0;34m.\u001b[0m\u001b[0mget_strategy\u001b[0m\u001b[0;34m(\u001b[0m\u001b[0;34m)\u001b[0m\u001b[0;34m,\u001b[0m\u001b[0;34m\u001b[0m\u001b[0;34m\u001b[0m\u001b[0m\n\u001b[0;32m-> 1112\u001b[0;31m         model=model)\n\u001b[0m\u001b[1;32m   1113\u001b[0m \u001b[0;34m\u001b[0m\u001b[0m\n\u001b[1;32m   1114\u001b[0m     \u001b[0mstrategy\u001b[0m \u001b[0;34m=\u001b[0m \u001b[0mds_context\u001b[0m\u001b[0;34m.\u001b[0m\u001b[0mget_strategy\u001b[0m\u001b[0;34m(\u001b[0m\u001b[0;34m)\u001b[0m\u001b[0;34m\u001b[0m\u001b[0;34m\u001b[0m\u001b[0m\n",
      "\u001b[0;32m/usr/local/lib/python3.6/dist-packages/tensorflow/python/keras/engine/data_adapter.py\u001b[0m in \u001b[0;36m__init__\u001b[0;34m(self, x, y, sample_weights, workers, use_multiprocessing, max_queue_size, model, **kwargs)\u001b[0m\n\u001b[1;32m    777\u001b[0m     \u001b[0;31m# Since we have to know the dtype of the python generator when we build the\u001b[0m\u001b[0;34m\u001b[0m\u001b[0;34m\u001b[0m\u001b[0;34m\u001b[0m\u001b[0m\n\u001b[1;32m    778\u001b[0m     \u001b[0;31m# dataset, we have to look at a batch to infer the structure.\u001b[0m\u001b[0;34m\u001b[0m\u001b[0;34m\u001b[0m\u001b[0;34m\u001b[0m\u001b[0m\n\u001b[0;32m--> 779\u001b[0;31m     \u001b[0mpeek\u001b[0m\u001b[0;34m,\u001b[0m \u001b[0mx\u001b[0m \u001b[0;34m=\u001b[0m \u001b[0mself\u001b[0m\u001b[0;34m.\u001b[0m\u001b[0m_peek_and_restore\u001b[0m\u001b[0;34m(\u001b[0m\u001b[0mx\u001b[0m\u001b[0;34m)\u001b[0m\u001b[0;34m\u001b[0m\u001b[0;34m\u001b[0m\u001b[0m\n\u001b[0m\u001b[1;32m    780\u001b[0m     \u001b[0mpeek\u001b[0m \u001b[0;34m=\u001b[0m \u001b[0mself\u001b[0m\u001b[0;34m.\u001b[0m\u001b[0m_standardize_batch\u001b[0m\u001b[0;34m(\u001b[0m\u001b[0mpeek\u001b[0m\u001b[0;34m)\u001b[0m\u001b[0;34m\u001b[0m\u001b[0;34m\u001b[0m\u001b[0m\n\u001b[1;32m    781\u001b[0m     \u001b[0mpeek\u001b[0m \u001b[0;34m=\u001b[0m \u001b[0m_process_tensorlike\u001b[0m\u001b[0;34m(\u001b[0m\u001b[0mpeek\u001b[0m\u001b[0;34m)\u001b[0m\u001b[0;34m\u001b[0m\u001b[0;34m\u001b[0m\u001b[0m\n",
      "\u001b[0;32m/usr/local/lib/python3.6/dist-packages/tensorflow/python/keras/engine/data_adapter.py\u001b[0m in \u001b[0;36m_peek_and_restore\u001b[0;34m(x)\u001b[0m\n\u001b[1;32m    834\u001b[0m   \u001b[0;34m@\u001b[0m\u001b[0mstaticmethod\u001b[0m\u001b[0;34m\u001b[0m\u001b[0;34m\u001b[0m\u001b[0m\n\u001b[1;32m    835\u001b[0m   \u001b[0;32mdef\u001b[0m \u001b[0m_peek_and_restore\u001b[0m\u001b[0;34m(\u001b[0m\u001b[0mx\u001b[0m\u001b[0;34m)\u001b[0m\u001b[0;34m:\u001b[0m\u001b[0;34m\u001b[0m\u001b[0;34m\u001b[0m\u001b[0m\n\u001b[0;32m--> 836\u001b[0;31m     \u001b[0mpeek\u001b[0m \u001b[0;34m=\u001b[0m \u001b[0mnext\u001b[0m\u001b[0;34m(\u001b[0m\u001b[0mx\u001b[0m\u001b[0;34m)\u001b[0m\u001b[0;34m\u001b[0m\u001b[0;34m\u001b[0m\u001b[0m\n\u001b[0m\u001b[1;32m    837\u001b[0m     \u001b[0;32mreturn\u001b[0m \u001b[0mpeek\u001b[0m\u001b[0;34m,\u001b[0m \u001b[0mitertools\u001b[0m\u001b[0;34m.\u001b[0m\u001b[0mchain\u001b[0m\u001b[0;34m(\u001b[0m\u001b[0;34m[\u001b[0m\u001b[0mpeek\u001b[0m\u001b[0;34m]\u001b[0m\u001b[0;34m,\u001b[0m \u001b[0mx\u001b[0m\u001b[0;34m)\u001b[0m\u001b[0;34m\u001b[0m\u001b[0;34m\u001b[0m\u001b[0m\n\u001b[1;32m    838\u001b[0m \u001b[0;34m\u001b[0m\u001b[0m\n",
      "\u001b[0;31mStopIteration\u001b[0m: "
     ]
    }
   ],
   "source": [
    "model.fit_generator(train_batch, train_steps, epochs=20, verbose=1, \n",
    "                    callbacks=[csv_logger, checkpoint], \n",
    "                    validation_data=val_batch, \n",
    "                    validation_steps=val_steps)"
   ]
  },
  {
   "cell_type": "markdown",
   "metadata": {
    "id": "9ti4AFXGtFZx"
   },
   "source": [
    "## Training Model"
   ]
  },
  {
   "cell_type": "code",
   "execution_count": null,
   "metadata": {
    "id": "qJuQqek8tGgr"
   },
   "outputs": [],
   "source": []
  }
 ],
 "metadata": {
  "colab": {
   "collapsed_sections": [],
   "include_colab_link": true,
   "name": "pilotNet.ipynb",
   "provenance": []
  },
  "kernelspec": {
   "display_name": "Python 3",
   "language": "python",
   "name": "python3"
  },
  "language_info": {
   "codemirror_mode": {
    "name": "ipython",
    "version": 3
   },
   "file_extension": ".py",
   "mimetype": "text/x-python",
   "name": "python",
   "nbconvert_exporter": "python",
   "pygments_lexer": "ipython3",
   "version": "3.7.9"
  }
 },
 "nbformat": 4,
 "nbformat_minor": 1
}
