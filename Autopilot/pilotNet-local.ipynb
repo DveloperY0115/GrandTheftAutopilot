{
 "cells": [
  {
   "cell_type": "markdown",
   "metadata": {
    "id": "eL6vLyIElvwD"
   },
   "source": [
    "# PilotNet training"
   ]
  },
  {
   "cell_type": "markdown",
   "metadata": {
    "id": "Qk_e_HzMc2df"
   },
   "source": [
    "## Import modules"
   ]
  },
  {
   "cell_type": "code",
   "execution_count": 1,
   "metadata": {
    "id": "s5hJwANvl35F"
   },
   "outputs": [],
   "source": [
    "import os\n",
    "import pandas as pd\n",
    "import numpy as np\n",
    "import sklearn\n",
    "import glob\n",
    "import cv2\n",
    "import matplotlib.pyplot as plt\n",
    "from PIL import Image"
   ]
  },
  {
   "cell_type": "markdown",
   "metadata": {},
   "source": [
    "## [TODO] Designate path to datasets"
   ]
  },
  {
   "cell_type": "code",
   "execution_count": null,
   "metadata": {},
   "outputs": [],
   "source": []
  },
  {
   "cell_type": "markdown",
   "metadata": {
    "id": "DBEVjkEjlnuZ"
   },
   "source": [
    "## Define Preprocessing Pipeline"
   ]
  },
  {
   "cell_type": "code",
   "execution_count": 2,
   "metadata": {
    "id": "APw29y97AZgF"
   },
   "outputs": [],
   "source": [
    "import tensorflow as tf\n",
    "\n",
    "# Keras implemented with TF backend\n",
    "from tensorflow.keras import models\n",
    "from tensorflow.keras.layers import Conv2D, Flatten, Dense, Dropout, BatchNormalization\n",
    "from tensorflow.keras.optimizers import SGD\n",
    "from tensorflow.keras.preprocessing.image import ImageDataGenerator, load_img, img_to_array\n",
    "from tensorflow.keras.callbacks import CSVLogger, ModelCheckpoint"
   ]
  },
  {
   "cell_type": "code",
   "execution_count": 3,
   "metadata": {
    "id": "juim2r12TWaW"
   },
   "outputs": [],
   "source": [
    "# define custom scikit-learn estimator & transformer performing MinMaxScaling on each channels\n",
    "from sklearn.base import BaseEstimator, TransformerMixin\n",
    "from sklearn.utils import shuffle\n",
    "\n",
    "class ImageMinMaxScaler(BaseEstimator, TransformerMixin):\n",
    "\n",
    "  def __init__(self):\n",
    "    return\n",
    "\n",
    "  def fit(self, X=None, y=None):\n",
    "    return self\n",
    "    \n",
    "  def transform(self, X, y=None):\n",
    "    # scale every pixel value to fit in [0, 1]\n",
    "    result = X / 255\n",
    "\n",
    "    return result\n",
    "\n",
    "  def fit_transform(self, X, y=None):\n",
    "    self.fit()\n",
    "\n",
    "    result = self.transform(X)\n",
    "    return result"
   ]
  },
  {
   "cell_type": "code",
   "execution_count": 4,
   "metadata": {
    "id": "y0QIKZAvnM13"
   },
   "outputs": [],
   "source": [
    "# define custom scikit-learn estimator & transformer resizing given image\n",
    "from sklearn.base import BaseEstimator, TransformerMixin\n",
    "\n",
    "class ImageResizer(TransformerMixin):\n",
    "\n",
    "  def __init__(self, target_size=(200, 66)):\n",
    "      self.target_size = target_size\n",
    "      return\n",
    "\n",
    "  def fit(self, X=None, y=None):\n",
    "      return self\n",
    "\n",
    "  def transform(self, X):\n",
    "      result = cv2.resize(X, self.target_size, interpolation=cv2.INTER_AREA)\n",
    "      return np.swapaxes(result, axis1=0, axis2=1)\n",
    "\n",
    "  def fit_transform(self, X, y=None):\n",
    "      return self.transform(X)"
   ]
  },
  {
   "cell_type": "code",
   "execution_count": 5,
   "metadata": {
    "id": "61D4s1vsRAm9"
   },
   "outputs": [],
   "source": [
    "from sklearn.pipeline import Pipeline\n",
    "\n",
    "pipe = Pipeline([                     \n",
    "                     ('ImageMinMaxScaler', ImageMinMaxScaler()), # scales the pixel values to range [0, 1]\n",
    "                     ('ImageResizer', ImageResizer())  # resizes given image to match the input layer size of the NN\n",
    "\n",
    "])"
   ]
  },
  {
   "source": [
    "## Check CSV file\n",
    "\n",
    "merged_dataset = pd.read_csv('./dataset-drive/datasets_mod.csv')\n",
    "\n",
    "merged_dataset.info()"
   ],
   "cell_type": "code",
   "metadata": {},
   "execution_count": 19,
   "outputs": [
    {
     "output_type": "stream",
     "name": "stdout",
     "text": [
      "<class 'pandas.core.frame.DataFrame'>\nRangeIndex: 70991 entries, 0 to 70990\nData columns (total 5 columns):\n #   Column          Non-Null Count  Dtype \n---  ------          --------------  ----- \n 0   Unnamed: 0      70991 non-null  int64 \n 1   Unnamed: 0.1    70991 non-null  int64 \n 2   Unnamed: 0.1.1  70991 non-null  int64 \n 3   drive_view      70991 non-null  object\n 4   control         70991 non-null  int64 \ndtypes: int64(4), object(1)\nmemory usage: 2.7+ MB\n"
     ]
    }
   ]
  },
  {
   "cell_type": "markdown",
   "metadata": {
    "id": "ALqJ3oLis-3R"
   },
   "source": [
    "## Define Custom dataloader"
   ]
  },
  {
   "cell_type": "code",
   "execution_count": 6,
   "metadata": {
    "id": "aQcQaVsDtB1I"
   },
   "outputs": [],
   "source": [
    "import os\n",
    "import pathlib\n",
    "import math\n",
    "\n",
    "from tensorflow.keras.utils import Sequence\n",
    "\n",
    "class Dataloader(Sequence):\n",
    "    \n",
    "  def __init__(self, dataset_dir, batch_size=32, shuffle=False):\n",
    "    # initialize basic member variables\n",
    "    self.dataset_dir = pathlib.Path(dataset_dir)\n",
    "    self.shuffle= shuffle\n",
    "    self.batch_size = batch_size\n",
    "    \n",
    "    # make list of files\n",
    "    self.file_names = []\n",
    "    for root, dirs, files in os.walk(self.dataset_dir):\n",
    "        for file in files:\n",
    "            if file.endswith('.jpg'):\n",
    "                self.file_names.append(file)\n",
    "    \n",
    "    self.num_img = len(self.file_names)\n",
    "    \n",
    "    # set directory storing images\n",
    "    self.x_path = \"./\" + str(self.dataset_dir) + \"/imgs\"\n",
    "    \n",
    "    # read labels from CSV file in the directory\n",
    "    csv_path = str(self.dataset_dir) + \"/\" + \"dataset.csv\"\n",
    "    df_temp = pd.read_csv(csv_path)\n",
    "    self.y = df_temp['control'].to_numpy()\n",
    "    \n",
    "    # initialize indices once\n",
    "    self.on_epoch_end()\n",
    "    \n",
    "  def __len__(self):\n",
    "    return math.ceil(self.num_img / self.batch_size)\n",
    "\n",
    "  def __getitem__(self, idx):\n",
    "        \n",
    "        batch_indices = self.indices[idx * self.batch_size : (idx + 1) * self.batch_size]\n",
    "        \n",
    "        # empty batch\n",
    "        batch_x = []\n",
    "        batch_y = []\n",
    "        \n",
    "        # generate batch \n",
    "        for i in batch_indices:\n",
    "            img_path = self.x_path + \"/\" + self.file_names[i]\n",
    "            img = load_img(img_path, color_mode='rgb', target_size=(66, 200))\n",
    "            img_arr = img_to_array(img) / 255 \n",
    "            img_arr = np.swapaxes(img_arr, 1, 0)\n",
    "            batch_x.append(img_arr)\n",
    "            batch_y.append(self.y[i])\n",
    "        \n",
    "        return np.array(batch_x), np.array(batch_y)\n",
    "    \n",
    "  def on_epoch_end(self):\n",
    "    self.indices = np.arange(self.num_img)\n",
    "    if self.shuffle == True:\n",
    "        np.random.shuffle(self.indices)\n",
    "        "
   ]
  },
  {
   "cell_type": "code",
   "execution_count": 37,
   "metadata": {},
   "outputs": [],
   "source": [
    "class Dataloader_from_CSV(Sequence):\n",
    "\n",
    "    def __init__(self, csv_path, batch_size=32, shuffle=False):\n",
    "        # initialize basic member variables\n",
    "        self.csv_path = pathlib.Path(csv_path)\n",
    "        self.shuffle= shuffle\n",
    "        self.batch_size = batch_size\n",
    "    \n",
    "        self.df = pd.read_csv(csv_path)\n",
    "\n",
    "        self.X_source_dir = self.df['drive_view']\n",
    "        self.y = self.df['control'].to_numpy()\n",
    "    \n",
    "        self.num_samples = len(self.df)\n",
    "    \n",
    "        # initialize indices once\n",
    "        self.on_epoch_end()\n",
    "    \n",
    "    def __len__(self):\n",
    "        return math.ceil(self.num_samples / self.batch_size)\n",
    "\n",
    "    def __getitem__(self, idx):\n",
    "        \n",
    "        batch_indices = self.indices[idx * self.batch_size : (idx + 1) * self.batch_size]\n",
    "        \n",
    "        # empty batch\n",
    "        batch_x = []\n",
    "        batch_y = []\n",
    "        \n",
    "        # generate batch \n",
    "        for i in batch_indices:\n",
    "            img_path = self.X_source_dir.iloc[i]\n",
    "\n",
    "            dirs = img_path.split('/')\n",
    "            dirs[1] = 'dataset-drive'\n",
    "            img_path = '/'.join(dirs)\n",
    "\n",
    "            img = load_img(img_path, color_mode='rgb', target_size=(66, 200))\n",
    "            img_arr = img_to_array(img) / 255 \n",
    "            img_arr = np.swapaxes(img_arr, 1, 0)\n",
    "            batch_x.append(img_arr)\n",
    "            batch_y.append(self.y[i])\n",
    "        \n",
    "        return np.array(batch_x), np.array(batch_y)\n",
    "    \n",
    "    def on_epoch_end(self):\n",
    "        self.indices = np.arange(self.num_samples)\n",
    "        if self.shuffle == True:\n",
    "            np.random.shuffle(self.indices)"
   ]
  },
  {
   "source": [
    "## Testing Default Dataloader (load data from each directory)"
   ],
   "cell_type": "markdown",
   "metadata": {}
  },
  {
   "cell_type": "code",
   "execution_count": 35,
   "metadata": {
    "scrolled": false
   },
   "outputs": [
    {
     "output_type": "stream",
     "name": "stdout",
     "text": [
      "['S' 'S' 'W' ... 'W' nan nan] (10780,) 7151\n"
     ]
    }
   ],
   "source": [
    "test_path = \"./dataset-drive/210119_12-14-48_data\"\n",
    "\n",
    "test_loader = Dataloader(test_path)\n",
    "print(test_loader.y, test_loader.y.shape, test_loader.num_img)\n",
    "\n",
    "batch_x, batch_y = test_loader[0]   # test: get 0th batch"
   ]
  },
  {
   "cell_type": "code",
   "execution_count": 31,
   "metadata": {},
   "outputs": [],
   "source": [
    "%matplotlib inline"
   ]
  },
  {
   "cell_type": "code",
   "execution_count": 32,
   "metadata": {},
   "outputs": [
    {
     "output_type": "display_data",
     "data": {
      "text/plain": "<Figure size 432x288 with 1 Axes>",
      "image/svg+xml": "<?xml version=\"1.0\" encoding=\"utf-8\" standalone=\"no\"?>\r\n<!DOCTYPE svg PUBLIC \"-//W3C//DTD SVG 1.1//EN\"\r\n  \"http://www.w3.org/Graphics/SVG/1.1/DTD/svg11.dtd\">\r\n<!-- Created with matplotlib (https://matplotlib.org/) -->\r\n<svg height=\"251.773744pt\" version=\"1.1\" viewBox=\"0 0 112.2427 251.773744\" width=\"112.2427pt\" xmlns=\"http://www.w3.org/2000/svg\" xmlns:xlink=\"http://www.w3.org/1999/xlink\">\r\n <metadata>\r\n  <rdf:RDF xmlns:cc=\"http://creativecommons.org/ns#\" xmlns:dc=\"http://purl.org/dc/elements/1.1/\" xmlns:rdf=\"http://www.w3.org/1999/02/22-rdf-syntax-ns#\">\r\n   <cc:Work>\r\n    <dc:type rdf:resource=\"http://purl.org/dc/dcmitype/StillImage\"/>\r\n    <dc:date>2021-02-16T21:19:00.576294</dc:date>\r\n    <dc:format>image/svg+xml</dc:format>\r\n    <dc:creator>\r\n     <cc:Agent>\r\n      <dc:title>Matplotlib v3.3.2, https://matplotlib.org/</dc:title>\r\n     </cc:Agent>\r\n    </dc:creator>\r\n   </cc:Work>\r\n  </rdf:RDF>\r\n </metadata>\r\n <defs>\r\n  <style type=\"text/css\">*{stroke-linecap:butt;stroke-linejoin:round;}</style>\r\n </defs>\r\n <g id=\"figure_1\">\r\n  <g id=\"patch_1\">\r\n   <path d=\"M 0 251.773744 \r\nL 112.2427 251.773744 \r\nL 112.2427 0 \r\nL 0 0 \r\nz\r\n\" style=\"fill:none;\"/>\r\n  </g>\r\n  <g id=\"axes_1\">\r\n   <g id=\"patch_2\">\r\n    <path d=\"M 33.2875 227.895619 \r\nL 105.0427 227.895619 \r\nL 105.0427 10.455619 \r\nL 33.2875 10.455619 \r\nz\r\n\" style=\"fill:#ffffff;\"/>\r\n   </g>\r\n   <g clip-path=\"url(#p3362e90f13)\">\r\n    <image height=\"218\" id=\"image2e495c9487\" transform=\"scale(1 -1)translate(0 -218)\" width=\"72\" x=\"33.2875\" xlink:href=\"data:image/png;base64,\r\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\" y=\"-9.895619\"/>\r\n   </g>\r\n   <g id=\"matplotlib.axis_1\">\r\n    <g id=\"xtick_1\">\r\n     <g id=\"line2d_1\">\r\n      <defs>\r\n       <path d=\"M 0 0 \r\nL 0 3.5 \r\n\" id=\"mcdb0554257\" style=\"stroke:#000000;stroke-width:0.8;\"/>\r\n      </defs>\r\n      <g>\r\n       <use style=\"stroke:#000000;stroke-width:0.8;\" x=\"33.8311\" xlink:href=\"#mcdb0554257\" y=\"227.895619\"/>\r\n      </g>\r\n     </g>\r\n     <g id=\"text_1\">\r\n      <!-- 0 -->\r\n      <g transform=\"translate(30.64985 242.494056)scale(0.1 -0.1)\">\r\n       <defs>\r\n        <path d=\"M 31.78125 66.40625 \r\nQ 24.171875 66.40625 20.328125 58.90625 \r\nQ 16.5 51.421875 16.5 36.375 \r\nQ 16.5 21.390625 20.328125 13.890625 \r\nQ 24.171875 6.390625 31.78125 6.390625 \r\nQ 39.453125 6.390625 43.28125 13.890625 \r\nQ 47.125 21.390625 47.125 36.375 \r\nQ 47.125 51.421875 43.28125 58.90625 \r\nQ 39.453125 66.40625 31.78125 66.40625 \r\nz\r\nM 31.78125 74.21875 \r\nQ 44.046875 74.21875 50.515625 64.515625 \r\nQ 56.984375 54.828125 56.984375 36.375 \r\nQ 56.984375 17.96875 50.515625 8.265625 \r\nQ 44.046875 -1.421875 31.78125 -1.421875 \r\nQ 19.53125 -1.421875 13.0625 8.265625 \r\nQ 6.59375 17.96875 6.59375 36.375 \r\nQ 6.59375 54.828125 13.0625 64.515625 \r\nQ 19.53125 74.21875 31.78125 74.21875 \r\nz\r\n\" id=\"DejaVuSans-48\"/>\r\n       </defs>\r\n       <use xlink:href=\"#DejaVuSans-48\"/>\r\n      </g>\r\n     </g>\r\n    </g>\r\n    <g id=\"xtick_2\">\r\n     <g id=\"line2d_2\">\r\n      <g>\r\n       <use style=\"stroke:#000000;stroke-width:0.8;\" x=\"88.1911\" xlink:href=\"#mcdb0554257\" y=\"227.895619\"/>\r\n      </g>\r\n     </g>\r\n     <g id=\"text_2\">\r\n      <!-- 50 -->\r\n      <g transform=\"translate(81.8286 242.494056)scale(0.1 -0.1)\">\r\n       <defs>\r\n        <path d=\"M 10.796875 72.90625 \r\nL 49.515625 72.90625 \r\nL 49.515625 64.59375 \r\nL 19.828125 64.59375 \r\nL 19.828125 46.734375 \r\nQ 21.96875 47.46875 24.109375 47.828125 \r\nQ 26.265625 48.1875 28.421875 48.1875 \r\nQ 40.625 48.1875 47.75 41.5 \r\nQ 54.890625 34.8125 54.890625 23.390625 \r\nQ 54.890625 11.625 47.5625 5.09375 \r\nQ 40.234375 -1.421875 26.90625 -1.421875 \r\nQ 22.3125 -1.421875 17.546875 -0.640625 \r\nQ 12.796875 0.140625 7.71875 1.703125 \r\nL 7.71875 11.625 \r\nQ 12.109375 9.234375 16.796875 8.0625 \r\nQ 21.484375 6.890625 26.703125 6.890625 \r\nQ 35.15625 6.890625 40.078125 11.328125 \r\nQ 45.015625 15.765625 45.015625 23.390625 \r\nQ 45.015625 31 40.078125 35.4375 \r\nQ 35.15625 39.890625 26.703125 39.890625 \r\nQ 22.75 39.890625 18.8125 39.015625 \r\nQ 14.890625 38.140625 10.796875 36.28125 \r\nz\r\n\" id=\"DejaVuSans-53\"/>\r\n       </defs>\r\n       <use xlink:href=\"#DejaVuSans-53\"/>\r\n       <use x=\"63.623047\" xlink:href=\"#DejaVuSans-48\"/>\r\n      </g>\r\n     </g>\r\n    </g>\r\n   </g>\r\n   <g id=\"matplotlib.axis_2\">\r\n    <g id=\"ytick_1\">\r\n     <g id=\"line2d_3\">\r\n      <defs>\r\n       <path d=\"M 0 0 \r\nL -3.5 0 \r\n\" id=\"m4d94d0ea98\" style=\"stroke:#000000;stroke-width:0.8;\"/>\r\n      </defs>\r\n      <g>\r\n       <use style=\"stroke:#000000;stroke-width:0.8;\" x=\"33.2875\" xlink:href=\"#m4d94d0ea98\" y=\"10.999219\"/>\r\n      </g>\r\n     </g>\r\n     <g id=\"text_3\">\r\n      <!-- 0 -->\r\n      <g transform=\"translate(19.925 14.798437)scale(0.1 -0.1)\">\r\n       <use xlink:href=\"#DejaVuSans-48\"/>\r\n      </g>\r\n     </g>\r\n    </g>\r\n    <g id=\"ytick_2\">\r\n     <g id=\"line2d_4\">\r\n      <g>\r\n       <use style=\"stroke:#000000;stroke-width:0.8;\" x=\"33.2875\" xlink:href=\"#m4d94d0ea98\" y=\"38.179219\"/>\r\n      </g>\r\n     </g>\r\n     <g id=\"text_4\">\r\n      <!-- 25 -->\r\n      <g transform=\"translate(13.5625 41.978437)scale(0.1 -0.1)\">\r\n       <defs>\r\n        <path d=\"M 19.1875 8.296875 \r\nL 53.609375 8.296875 \r\nL 53.609375 0 \r\nL 7.328125 0 \r\nL 7.328125 8.296875 \r\nQ 12.9375 14.109375 22.625 23.890625 \r\nQ 32.328125 33.6875 34.8125 36.53125 \r\nQ 39.546875 41.84375 41.421875 45.53125 \r\nQ 43.3125 49.21875 43.3125 52.78125 \r\nQ 43.3125 58.59375 39.234375 62.25 \r\nQ 35.15625 65.921875 28.609375 65.921875 \r\nQ 23.96875 65.921875 18.8125 64.3125 \r\nQ 13.671875 62.703125 7.8125 59.421875 \r\nL 7.8125 69.390625 \r\nQ 13.765625 71.78125 18.9375 73 \r\nQ 24.125 74.21875 28.421875 74.21875 \r\nQ 39.75 74.21875 46.484375 68.546875 \r\nQ 53.21875 62.890625 53.21875 53.421875 \r\nQ 53.21875 48.921875 51.53125 44.890625 \r\nQ 49.859375 40.875 45.40625 35.40625 \r\nQ 44.1875 33.984375 37.640625 27.21875 \r\nQ 31.109375 20.453125 19.1875 8.296875 \r\nz\r\n\" id=\"DejaVuSans-50\"/>\r\n       </defs>\r\n       <use xlink:href=\"#DejaVuSans-50\"/>\r\n       <use x=\"63.623047\" xlink:href=\"#DejaVuSans-53\"/>\r\n      </g>\r\n     </g>\r\n    </g>\r\n    <g id=\"ytick_3\">\r\n     <g id=\"line2d_5\">\r\n      <g>\r\n       <use style=\"stroke:#000000;stroke-width:0.8;\" x=\"33.2875\" xlink:href=\"#m4d94d0ea98\" y=\"65.359219\"/>\r\n      </g>\r\n     </g>\r\n     <g id=\"text_5\">\r\n      <!-- 50 -->\r\n      <g transform=\"translate(13.5625 69.158437)scale(0.1 -0.1)\">\r\n       <use xlink:href=\"#DejaVuSans-53\"/>\r\n       <use x=\"63.623047\" xlink:href=\"#DejaVuSans-48\"/>\r\n      </g>\r\n     </g>\r\n    </g>\r\n    <g id=\"ytick_4\">\r\n     <g id=\"line2d_6\">\r\n      <g>\r\n       <use style=\"stroke:#000000;stroke-width:0.8;\" x=\"33.2875\" xlink:href=\"#m4d94d0ea98\" y=\"92.539219\"/>\r\n      </g>\r\n     </g>\r\n     <g id=\"text_6\">\r\n      <!-- 75 -->\r\n      <g transform=\"translate(13.5625 96.338437)scale(0.1 -0.1)\">\r\n       <defs>\r\n        <path d=\"M 8.203125 72.90625 \r\nL 55.078125 72.90625 \r\nL 55.078125 68.703125 \r\nL 28.609375 0 \r\nL 18.3125 0 \r\nL 43.21875 64.59375 \r\nL 8.203125 64.59375 \r\nz\r\n\" id=\"DejaVuSans-55\"/>\r\n       </defs>\r\n       <use xlink:href=\"#DejaVuSans-55\"/>\r\n       <use x=\"63.623047\" xlink:href=\"#DejaVuSans-53\"/>\r\n      </g>\r\n     </g>\r\n    </g>\r\n    <g id=\"ytick_5\">\r\n     <g id=\"line2d_7\">\r\n      <g>\r\n       <use style=\"stroke:#000000;stroke-width:0.8;\" x=\"33.2875\" xlink:href=\"#m4d94d0ea98\" y=\"119.719219\"/>\r\n      </g>\r\n     </g>\r\n     <g id=\"text_7\">\r\n      <!-- 100 -->\r\n      <g transform=\"translate(7.2 123.518437)scale(0.1 -0.1)\">\r\n       <defs>\r\n        <path d=\"M 12.40625 8.296875 \r\nL 28.515625 8.296875 \r\nL 28.515625 63.921875 \r\nL 10.984375 60.40625 \r\nL 10.984375 69.390625 \r\nL 28.421875 72.90625 \r\nL 38.28125 72.90625 \r\nL 38.28125 8.296875 \r\nL 54.390625 8.296875 \r\nL 54.390625 0 \r\nL 12.40625 0 \r\nz\r\n\" id=\"DejaVuSans-49\"/>\r\n       </defs>\r\n       <use xlink:href=\"#DejaVuSans-49\"/>\r\n       <use x=\"63.623047\" xlink:href=\"#DejaVuSans-48\"/>\r\n       <use x=\"127.246094\" xlink:href=\"#DejaVuSans-48\"/>\r\n      </g>\r\n     </g>\r\n    </g>\r\n    <g id=\"ytick_6\">\r\n     <g id=\"line2d_8\">\r\n      <g>\r\n       <use style=\"stroke:#000000;stroke-width:0.8;\" x=\"33.2875\" xlink:href=\"#m4d94d0ea98\" y=\"146.899219\"/>\r\n      </g>\r\n     </g>\r\n     <g id=\"text_8\">\r\n      <!-- 125 -->\r\n      <g transform=\"translate(7.2 150.698437)scale(0.1 -0.1)\">\r\n       <use xlink:href=\"#DejaVuSans-49\"/>\r\n       <use x=\"63.623047\" xlink:href=\"#DejaVuSans-50\"/>\r\n       <use x=\"127.246094\" xlink:href=\"#DejaVuSans-53\"/>\r\n      </g>\r\n     </g>\r\n    </g>\r\n    <g id=\"ytick_7\">\r\n     <g id=\"line2d_9\">\r\n      <g>\r\n       <use style=\"stroke:#000000;stroke-width:0.8;\" x=\"33.2875\" xlink:href=\"#m4d94d0ea98\" y=\"174.079219\"/>\r\n      </g>\r\n     </g>\r\n     <g id=\"text_9\">\r\n      <!-- 150 -->\r\n      <g transform=\"translate(7.2 177.878437)scale(0.1 -0.1)\">\r\n       <use xlink:href=\"#DejaVuSans-49\"/>\r\n       <use x=\"63.623047\" xlink:href=\"#DejaVuSans-53\"/>\r\n       <use x=\"127.246094\" xlink:href=\"#DejaVuSans-48\"/>\r\n      </g>\r\n     </g>\r\n    </g>\r\n    <g id=\"ytick_8\">\r\n     <g id=\"line2d_10\">\r\n      <g>\r\n       <use style=\"stroke:#000000;stroke-width:0.8;\" x=\"33.2875\" xlink:href=\"#m4d94d0ea98\" y=\"201.259219\"/>\r\n      </g>\r\n     </g>\r\n     <g id=\"text_10\">\r\n      <!-- 175 -->\r\n      <g transform=\"translate(7.2 205.058437)scale(0.1 -0.1)\">\r\n       <use xlink:href=\"#DejaVuSans-49\"/>\r\n       <use x=\"63.623047\" xlink:href=\"#DejaVuSans-55\"/>\r\n       <use x=\"127.246094\" xlink:href=\"#DejaVuSans-53\"/>\r\n      </g>\r\n     </g>\r\n    </g>\r\n   </g>\r\n   <g id=\"patch_3\">\r\n    <path d=\"M 33.2875 227.895619 \r\nL 33.2875 10.455619 \r\n\" style=\"fill:none;stroke:#000000;stroke-linecap:square;stroke-linejoin:miter;stroke-width:0.8;\"/>\r\n   </g>\r\n   <g id=\"patch_4\">\r\n    <path d=\"M 105.0427 227.895619 \r\nL 105.0427 10.455619 \r\n\" style=\"fill:none;stroke:#000000;stroke-linecap:square;stroke-linejoin:miter;stroke-width:0.8;\"/>\r\n   </g>\r\n   <g id=\"patch_5\">\r\n    <path d=\"M 33.2875 227.895619 \r\nL 105.0427 227.895619 \r\n\" style=\"fill:none;stroke:#000000;stroke-linecap:square;stroke-linejoin:miter;stroke-width:0.8;\"/>\r\n   </g>\r\n   <g id=\"patch_6\">\r\n    <path d=\"M 33.2875 10.455619 \r\nL 105.0427 10.455619 \r\n\" style=\"fill:none;stroke:#000000;stroke-linecap:square;stroke-linejoin:miter;stroke-width:0.8;\"/>\r\n   </g>\r\n  </g>\r\n </g>\r\n <defs>\r\n  <clipPath id=\"p3362e90f13\">\r\n   <rect height=\"217.44\" width=\"71.7552\" x=\"33.2875\" y=\"10.455619\"/>\r\n  </clipPath>\r\n </defs>\r\n</svg>\r\n",
      "image/png": "[encoded data removed]"
     },
     "metadata": {
      "needs_background": "light"
     }
    }
   ],
   "source": [
    "import matplotlib.pyplot as plt\n",
    "import matplotlib.image as mpimg\n",
    "\n",
    "imgplt = plt.imshow(batch_x[0])"
   ]
  },
  {
   "source": [
    "## Testing CSV compatible Dataloader"
   ],
   "cell_type": "markdown",
   "metadata": {}
  },
  {
   "cell_type": "code",
   "execution_count": 38,
   "metadata": {},
   "outputs": [
    {
     "output_type": "error",
     "ename": "FileNotFoundError",
     "evalue": "[Errno 2] No such file or directory: './dataset-drive/210119_12-14-48_data/imgs/drive_view0.jpg'",
     "traceback": [
      "\u001b[1;31m---------------------------------------------------------------------------\u001b[0m",
      "\u001b[1;31mFileNotFoundError\u001b[0m                         Traceback (most recent call last)",
      "\u001b[1;32m<ipython-input-38-bf0f5eea7a00>\u001b[0m in \u001b[0;36m<module>\u001b[1;34m\u001b[0m\n\u001b[0;32m      3\u001b[0m \u001b[0mtest_loader\u001b[0m \u001b[1;33m=\u001b[0m \u001b[0mDataloader_from_CSV\u001b[0m\u001b[1;33m(\u001b[0m\u001b[0mcsv_path\u001b[0m\u001b[1;33m)\u001b[0m\u001b[1;33m\u001b[0m\u001b[1;33m\u001b[0m\u001b[0m\n\u001b[0;32m      4\u001b[0m \u001b[1;33m\u001b[0m\u001b[0m\n\u001b[1;32m----> 5\u001b[1;33m \u001b[0mbatch_x\u001b[0m\u001b[1;33m,\u001b[0m \u001b[0mbatch_y\u001b[0m \u001b[1;33m=\u001b[0m \u001b[0mtest_loader\u001b[0m\u001b[1;33m[\u001b[0m\u001b[1;36m0\u001b[0m\u001b[1;33m]\u001b[0m\u001b[1;33m\u001b[0m\u001b[1;33m\u001b[0m\u001b[0m\n\u001b[0m",
      "\u001b[1;32m<ipython-input-37-b92bc34619cf>\u001b[0m in \u001b[0;36m__getitem__\u001b[1;34m(self, idx)\u001b[0m\n\u001b[0;32m     36\u001b[0m             \u001b[0mimg_path\u001b[0m \u001b[1;33m=\u001b[0m \u001b[1;34m'/'\u001b[0m\u001b[1;33m.\u001b[0m\u001b[0mjoin\u001b[0m\u001b[1;33m(\u001b[0m\u001b[0mdirs\u001b[0m\u001b[1;33m)\u001b[0m\u001b[1;33m\u001b[0m\u001b[1;33m\u001b[0m\u001b[0m\n\u001b[0;32m     37\u001b[0m \u001b[1;33m\u001b[0m\u001b[0m\n\u001b[1;32m---> 38\u001b[1;33m             \u001b[0mimg\u001b[0m \u001b[1;33m=\u001b[0m \u001b[0mload_img\u001b[0m\u001b[1;33m(\u001b[0m\u001b[0mimg_path\u001b[0m\u001b[1;33m,\u001b[0m \u001b[0mcolor_mode\u001b[0m\u001b[1;33m=\u001b[0m\u001b[1;34m'rgb'\u001b[0m\u001b[1;33m,\u001b[0m \u001b[0mtarget_size\u001b[0m\u001b[1;33m=\u001b[0m\u001b[1;33m(\u001b[0m\u001b[1;36m66\u001b[0m\u001b[1;33m,\u001b[0m \u001b[1;36m200\u001b[0m\u001b[1;33m)\u001b[0m\u001b[1;33m)\u001b[0m\u001b[1;33m\u001b[0m\u001b[1;33m\u001b[0m\u001b[0m\n\u001b[0m\u001b[0;32m     39\u001b[0m             \u001b[0mimg_arr\u001b[0m \u001b[1;33m=\u001b[0m \u001b[0mimg_to_array\u001b[0m\u001b[1;33m(\u001b[0m\u001b[0mimg\u001b[0m\u001b[1;33m)\u001b[0m \u001b[1;33m/\u001b[0m \u001b[1;36m255\u001b[0m\u001b[1;33m\u001b[0m\u001b[1;33m\u001b[0m\u001b[0m\n\u001b[0;32m     40\u001b[0m             \u001b[0mimg_arr\u001b[0m \u001b[1;33m=\u001b[0m \u001b[0mnp\u001b[0m\u001b[1;33m.\u001b[0m\u001b[0mswapaxes\u001b[0m\u001b[1;33m(\u001b[0m\u001b[0mimg_arr\u001b[0m\u001b[1;33m,\u001b[0m \u001b[1;36m1\u001b[0m\u001b[1;33m,\u001b[0m \u001b[1;36m0\u001b[0m\u001b[1;33m)\u001b[0m\u001b[1;33m\u001b[0m\u001b[1;33m\u001b[0m\u001b[0m\n",
      "\u001b[1;32m~\\anaconda3\\envs\\torch\\lib\\site-packages\\tensorflow\\python\\keras\\preprocessing\\image.py\u001b[0m in \u001b[0;36mload_img\u001b[1;34m(path, grayscale, color_mode, target_size, interpolation)\u001b[0m\n\u001b[0;32m    298\u001b[0m       \u001b[0mValueError\u001b[0m\u001b[1;33m:\u001b[0m \u001b[1;32mif\u001b[0m \u001b[0minterpolation\u001b[0m \u001b[0mmethod\u001b[0m \u001b[1;32mis\u001b[0m \u001b[1;32mnot\u001b[0m \u001b[0msupported\u001b[0m\u001b[1;33m.\u001b[0m\u001b[1;33m\u001b[0m\u001b[1;33m\u001b[0m\u001b[0m\n\u001b[0;32m    299\u001b[0m   \"\"\"\n\u001b[1;32m--> 300\u001b[1;33m   return image.load_img(path, grayscale=grayscale, color_mode=color_mode,\n\u001b[0m\u001b[0;32m    301\u001b[0m                         target_size=target_size, interpolation=interpolation)\n\u001b[0;32m    302\u001b[0m \u001b[1;33m\u001b[0m\u001b[0m\n",
      "\u001b[1;32m~\\anaconda3\\envs\\torch\\lib\\site-packages\\keras_preprocessing\\image\\utils.py\u001b[0m in \u001b[0;36mload_img\u001b[1;34m(path, grayscale, color_mode, target_size, interpolation)\u001b[0m\n\u001b[0;32m    111\u001b[0m         raise ImportError('Could not import PIL.Image. '\n\u001b[0;32m    112\u001b[0m                           'The use of `load_img` requires PIL.')\n\u001b[1;32m--> 113\u001b[1;33m     \u001b[1;32mwith\u001b[0m \u001b[0mopen\u001b[0m\u001b[1;33m(\u001b[0m\u001b[0mpath\u001b[0m\u001b[1;33m,\u001b[0m \u001b[1;34m'rb'\u001b[0m\u001b[1;33m)\u001b[0m \u001b[1;32mas\u001b[0m \u001b[0mf\u001b[0m\u001b[1;33m:\u001b[0m\u001b[1;33m\u001b[0m\u001b[1;33m\u001b[0m\u001b[0m\n\u001b[0m\u001b[0;32m    114\u001b[0m         \u001b[0mimg\u001b[0m \u001b[1;33m=\u001b[0m \u001b[0mpil_image\u001b[0m\u001b[1;33m.\u001b[0m\u001b[0mopen\u001b[0m\u001b[1;33m(\u001b[0m\u001b[0mio\u001b[0m\u001b[1;33m.\u001b[0m\u001b[0mBytesIO\u001b[0m\u001b[1;33m(\u001b[0m\u001b[0mf\u001b[0m\u001b[1;33m.\u001b[0m\u001b[0mread\u001b[0m\u001b[1;33m(\u001b[0m\u001b[1;33m)\u001b[0m\u001b[1;33m)\u001b[0m\u001b[1;33m)\u001b[0m\u001b[1;33m\u001b[0m\u001b[1;33m\u001b[0m\u001b[0m\n\u001b[0;32m    115\u001b[0m         \u001b[1;32mif\u001b[0m \u001b[0mcolor_mode\u001b[0m \u001b[1;33m==\u001b[0m \u001b[1;34m'grayscale'\u001b[0m\u001b[1;33m:\u001b[0m\u001b[1;33m\u001b[0m\u001b[1;33m\u001b[0m\u001b[0m\n",
      "\u001b[1;31mFileNotFoundError\u001b[0m: [Errno 2] No such file or directory: './dataset-drive/210119_12-14-48_data/imgs/drive_view0.jpg'"
     ]
    }
   ],
   "source": [
    "csv_path = './dataset-drive/datasets_mod.csv'\n",
    "\n",
    "test_loader = Dataloader_from_CSV(csv_path)\n",
    "\n",
    "batch_x, batch_y = test_loader[0]"
   ]
  },
  {
   "cell_type": "code",
   "execution_count": 10,
   "metadata": {
    "id": "POkakZB-DoQF"
   },
   "outputs": [],
   "source": [
    "def img_to_arr(p):\n",
    "    with image.load_img(p) as img:\n",
    "        img = image.img_to_array(img)\n",
    "    return img"
   ]
  },
  {
   "cell_type": "code",
   "execution_count": 11,
   "metadata": {
    "id": "FzB_Xsq3d6Ji"
   },
   "outputs": [
    {
     "output_type": "error",
     "ename": "FileNotFoundError",
     "evalue": "[Errno 2] No such file or directory: '/content/drive/MyDrive/AutopilotDrive/dataset//datasets_mod.csv'",
     "traceback": [
      "\u001b[1;31m---------------------------------------------------------------------------\u001b[0m",
      "\u001b[1;31mFileNotFoundError\u001b[0m                         Traceback (most recent call last)",
      "\u001b[1;32m<ipython-input-11-de4393282542>\u001b[0m in \u001b[0;36m<module>\u001b[1;34m\u001b[0m\n\u001b[0;32m      1\u001b[0m \u001b[0mtarget_dataset\u001b[0m \u001b[1;33m=\u001b[0m \u001b[1;34m\"/content/drive/MyDrive/AutopilotDrive/dataset/\"\u001b[0m\u001b[1;33m\u001b[0m\u001b[1;33m\u001b[0m\u001b[0m\n\u001b[1;32m----> 2\u001b[1;33m \u001b[0mdf\u001b[0m \u001b[1;33m=\u001b[0m \u001b[0mpd\u001b[0m\u001b[1;33m.\u001b[0m\u001b[0mread_csv\u001b[0m\u001b[1;33m(\u001b[0m\u001b[0mtarget_dataset\u001b[0m \u001b[1;33m+\u001b[0m \u001b[1;34m\"/datasets_mod.csv\"\u001b[0m\u001b[1;33m)\u001b[0m\u001b[1;33m\u001b[0m\u001b[1;33m\u001b[0m\u001b[0m\n\u001b[0m",
      "\u001b[1;32m~\\anaconda3\\envs\\torch\\lib\\site-packages\\pandas\\io\\parsers.py\u001b[0m in \u001b[0;36mread_csv\u001b[1;34m(filepath_or_buffer, sep, delimiter, header, names, index_col, usecols, squeeze, prefix, mangle_dupe_cols, dtype, engine, converters, true_values, false_values, skipinitialspace, skiprows, skipfooter, nrows, na_values, keep_default_na, na_filter, verbose, skip_blank_lines, parse_dates, infer_datetime_format, keep_date_col, date_parser, dayfirst, cache_dates, iterator, chunksize, compression, thousands, decimal, lineterminator, quotechar, quoting, doublequote, escapechar, comment, encoding, dialect, error_bad_lines, warn_bad_lines, delim_whitespace, low_memory, memory_map, float_precision, storage_options)\u001b[0m\n\u001b[0;32m    603\u001b[0m     \u001b[0mkwds\u001b[0m\u001b[1;33m.\u001b[0m\u001b[0mupdate\u001b[0m\u001b[1;33m(\u001b[0m\u001b[0mkwds_defaults\u001b[0m\u001b[1;33m)\u001b[0m\u001b[1;33m\u001b[0m\u001b[1;33m\u001b[0m\u001b[0m\n\u001b[0;32m    604\u001b[0m \u001b[1;33m\u001b[0m\u001b[0m\n\u001b[1;32m--> 605\u001b[1;33m     \u001b[1;32mreturn\u001b[0m \u001b[0m_read\u001b[0m\u001b[1;33m(\u001b[0m\u001b[0mfilepath_or_buffer\u001b[0m\u001b[1;33m,\u001b[0m \u001b[0mkwds\u001b[0m\u001b[1;33m)\u001b[0m\u001b[1;33m\u001b[0m\u001b[1;33m\u001b[0m\u001b[0m\n\u001b[0m\u001b[0;32m    606\u001b[0m \u001b[1;33m\u001b[0m\u001b[0m\n\u001b[0;32m    607\u001b[0m \u001b[1;33m\u001b[0m\u001b[0m\n",
      "\u001b[1;32m~\\anaconda3\\envs\\torch\\lib\\site-packages\\pandas\\io\\parsers.py\u001b[0m in \u001b[0;36m_read\u001b[1;34m(filepath_or_buffer, kwds)\u001b[0m\n\u001b[0;32m    455\u001b[0m \u001b[1;33m\u001b[0m\u001b[0m\n\u001b[0;32m    456\u001b[0m     \u001b[1;31m# Create the parser.\u001b[0m\u001b[1;33m\u001b[0m\u001b[1;33m\u001b[0m\u001b[1;33m\u001b[0m\u001b[0m\n\u001b[1;32m--> 457\u001b[1;33m     \u001b[0mparser\u001b[0m \u001b[1;33m=\u001b[0m \u001b[0mTextFileReader\u001b[0m\u001b[1;33m(\u001b[0m\u001b[0mfilepath_or_buffer\u001b[0m\u001b[1;33m,\u001b[0m \u001b[1;33m**\u001b[0m\u001b[0mkwds\u001b[0m\u001b[1;33m)\u001b[0m\u001b[1;33m\u001b[0m\u001b[1;33m\u001b[0m\u001b[0m\n\u001b[0m\u001b[0;32m    458\u001b[0m \u001b[1;33m\u001b[0m\u001b[0m\n\u001b[0;32m    459\u001b[0m     \u001b[1;32mif\u001b[0m \u001b[0mchunksize\u001b[0m \u001b[1;32mor\u001b[0m \u001b[0miterator\u001b[0m\u001b[1;33m:\u001b[0m\u001b[1;33m\u001b[0m\u001b[1;33m\u001b[0m\u001b[0m\n",
      "\u001b[1;32m~\\anaconda3\\envs\\torch\\lib\\site-packages\\pandas\\io\\parsers.py\u001b[0m in \u001b[0;36m__init__\u001b[1;34m(self, f, engine, **kwds)\u001b[0m\n\u001b[0;32m    812\u001b[0m             \u001b[0mself\u001b[0m\u001b[1;33m.\u001b[0m\u001b[0moptions\u001b[0m\u001b[1;33m[\u001b[0m\u001b[1;34m\"has_index_names\"\u001b[0m\u001b[1;33m]\u001b[0m \u001b[1;33m=\u001b[0m \u001b[0mkwds\u001b[0m\u001b[1;33m[\u001b[0m\u001b[1;34m\"has_index_names\"\u001b[0m\u001b[1;33m]\u001b[0m\u001b[1;33m\u001b[0m\u001b[1;33m\u001b[0m\u001b[0m\n\u001b[0;32m    813\u001b[0m \u001b[1;33m\u001b[0m\u001b[0m\n\u001b[1;32m--> 814\u001b[1;33m         \u001b[0mself\u001b[0m\u001b[1;33m.\u001b[0m\u001b[0m_engine\u001b[0m \u001b[1;33m=\u001b[0m \u001b[0mself\u001b[0m\u001b[1;33m.\u001b[0m\u001b[0m_make_engine\u001b[0m\u001b[1;33m(\u001b[0m\u001b[0mself\u001b[0m\u001b[1;33m.\u001b[0m\u001b[0mengine\u001b[0m\u001b[1;33m)\u001b[0m\u001b[1;33m\u001b[0m\u001b[1;33m\u001b[0m\u001b[0m\n\u001b[0m\u001b[0;32m    815\u001b[0m \u001b[1;33m\u001b[0m\u001b[0m\n\u001b[0;32m    816\u001b[0m     \u001b[1;32mdef\u001b[0m \u001b[0mclose\u001b[0m\u001b[1;33m(\u001b[0m\u001b[0mself\u001b[0m\u001b[1;33m)\u001b[0m\u001b[1;33m:\u001b[0m\u001b[1;33m\u001b[0m\u001b[1;33m\u001b[0m\u001b[0m\n",
      "\u001b[1;32m~\\anaconda3\\envs\\torch\\lib\\site-packages\\pandas\\io\\parsers.py\u001b[0m in \u001b[0;36m_make_engine\u001b[1;34m(self, engine)\u001b[0m\n\u001b[0;32m   1043\u001b[0m             )\n\u001b[0;32m   1044\u001b[0m         \u001b[1;31m# error: Too many arguments for \"ParserBase\"\u001b[0m\u001b[1;33m\u001b[0m\u001b[1;33m\u001b[0m\u001b[1;33m\u001b[0m\u001b[0m\n\u001b[1;32m-> 1045\u001b[1;33m         \u001b[1;32mreturn\u001b[0m \u001b[0mmapping\u001b[0m\u001b[1;33m[\u001b[0m\u001b[0mengine\u001b[0m\u001b[1;33m]\u001b[0m\u001b[1;33m(\u001b[0m\u001b[0mself\u001b[0m\u001b[1;33m.\u001b[0m\u001b[0mf\u001b[0m\u001b[1;33m,\u001b[0m \u001b[1;33m**\u001b[0m\u001b[0mself\u001b[0m\u001b[1;33m.\u001b[0m\u001b[0moptions\u001b[0m\u001b[1;33m)\u001b[0m  \u001b[1;31m# type: ignore[call-arg]\u001b[0m\u001b[1;33m\u001b[0m\u001b[1;33m\u001b[0m\u001b[0m\n\u001b[0m\u001b[0;32m   1046\u001b[0m \u001b[1;33m\u001b[0m\u001b[0m\n\u001b[0;32m   1047\u001b[0m     \u001b[1;32mdef\u001b[0m \u001b[0m_failover_to_python\u001b[0m\u001b[1;33m(\u001b[0m\u001b[0mself\u001b[0m\u001b[1;33m)\u001b[0m\u001b[1;33m:\u001b[0m\u001b[1;33m\u001b[0m\u001b[1;33m\u001b[0m\u001b[0m\n",
      "\u001b[1;32m~\\anaconda3\\envs\\torch\\lib\\site-packages\\pandas\\io\\parsers.py\u001b[0m in \u001b[0;36m__init__\u001b[1;34m(self, src, **kwds)\u001b[0m\n\u001b[0;32m   1860\u001b[0m \u001b[1;33m\u001b[0m\u001b[0m\n\u001b[0;32m   1861\u001b[0m         \u001b[1;31m# open handles\u001b[0m\u001b[1;33m\u001b[0m\u001b[1;33m\u001b[0m\u001b[1;33m\u001b[0m\u001b[0m\n\u001b[1;32m-> 1862\u001b[1;33m         \u001b[0mself\u001b[0m\u001b[1;33m.\u001b[0m\u001b[0m_open_handles\u001b[0m\u001b[1;33m(\u001b[0m\u001b[0msrc\u001b[0m\u001b[1;33m,\u001b[0m \u001b[0mkwds\u001b[0m\u001b[1;33m)\u001b[0m\u001b[1;33m\u001b[0m\u001b[1;33m\u001b[0m\u001b[0m\n\u001b[0m\u001b[0;32m   1863\u001b[0m         \u001b[1;32massert\u001b[0m \u001b[0mself\u001b[0m\u001b[1;33m.\u001b[0m\u001b[0mhandles\u001b[0m \u001b[1;32mis\u001b[0m \u001b[1;32mnot\u001b[0m \u001b[1;32mNone\u001b[0m\u001b[1;33m\u001b[0m\u001b[1;33m\u001b[0m\u001b[0m\n\u001b[0;32m   1864\u001b[0m         \u001b[1;32mfor\u001b[0m \u001b[0mkey\u001b[0m \u001b[1;32min\u001b[0m \u001b[1;33m(\u001b[0m\u001b[1;34m\"storage_options\"\u001b[0m\u001b[1;33m,\u001b[0m \u001b[1;34m\"encoding\"\u001b[0m\u001b[1;33m,\u001b[0m \u001b[1;34m\"memory_map\"\u001b[0m\u001b[1;33m,\u001b[0m \u001b[1;34m\"compression\"\u001b[0m\u001b[1;33m)\u001b[0m\u001b[1;33m:\u001b[0m\u001b[1;33m\u001b[0m\u001b[1;33m\u001b[0m\u001b[0m\n",
      "\u001b[1;32m~\\anaconda3\\envs\\torch\\lib\\site-packages\\pandas\\io\\parsers.py\u001b[0m in \u001b[0;36m_open_handles\u001b[1;34m(self, src, kwds)\u001b[0m\n\u001b[0;32m   1355\u001b[0m         \u001b[0mLet\u001b[0m \u001b[0mthe\u001b[0m \u001b[0mreaders\u001b[0m \u001b[0mopen\u001b[0m \u001b[0mIOHanldes\u001b[0m \u001b[0mafter\u001b[0m \u001b[0mthey\u001b[0m \u001b[0mare\u001b[0m \u001b[0mdone\u001b[0m \u001b[1;32mwith\u001b[0m \u001b[0mtheir\u001b[0m \u001b[0mpotential\u001b[0m \u001b[0mraises\u001b[0m\u001b[1;33m.\u001b[0m\u001b[1;33m\u001b[0m\u001b[1;33m\u001b[0m\u001b[0m\n\u001b[0;32m   1356\u001b[0m         \"\"\"\n\u001b[1;32m-> 1357\u001b[1;33m         self.handles = get_handle(\n\u001b[0m\u001b[0;32m   1358\u001b[0m             \u001b[0msrc\u001b[0m\u001b[1;33m,\u001b[0m\u001b[1;33m\u001b[0m\u001b[1;33m\u001b[0m\u001b[0m\n\u001b[0;32m   1359\u001b[0m             \u001b[1;34m\"r\"\u001b[0m\u001b[1;33m,\u001b[0m\u001b[1;33m\u001b[0m\u001b[1;33m\u001b[0m\u001b[0m\n",
      "\u001b[1;32m~\\anaconda3\\envs\\torch\\lib\\site-packages\\pandas\\io\\common.py\u001b[0m in \u001b[0;36mget_handle\u001b[1;34m(path_or_buf, mode, encoding, compression, memory_map, is_text, errors, storage_options)\u001b[0m\n\u001b[0;32m    637\u001b[0m         \u001b[1;32mif\u001b[0m \u001b[0mioargs\u001b[0m\u001b[1;33m.\u001b[0m\u001b[0mencoding\u001b[0m \u001b[1;32mand\u001b[0m \u001b[1;34m\"b\"\u001b[0m \u001b[1;32mnot\u001b[0m \u001b[1;32min\u001b[0m \u001b[0mioargs\u001b[0m\u001b[1;33m.\u001b[0m\u001b[0mmode\u001b[0m\u001b[1;33m:\u001b[0m\u001b[1;33m\u001b[0m\u001b[1;33m\u001b[0m\u001b[0m\n\u001b[0;32m    638\u001b[0m             \u001b[1;31m# Encoding\u001b[0m\u001b[1;33m\u001b[0m\u001b[1;33m\u001b[0m\u001b[1;33m\u001b[0m\u001b[0m\n\u001b[1;32m--> 639\u001b[1;33m             handle = open(\n\u001b[0m\u001b[0;32m    640\u001b[0m                 \u001b[0mhandle\u001b[0m\u001b[1;33m,\u001b[0m\u001b[1;33m\u001b[0m\u001b[1;33m\u001b[0m\u001b[0m\n\u001b[0;32m    641\u001b[0m                 \u001b[0mioargs\u001b[0m\u001b[1;33m.\u001b[0m\u001b[0mmode\u001b[0m\u001b[1;33m,\u001b[0m\u001b[1;33m\u001b[0m\u001b[1;33m\u001b[0m\u001b[0m\n",
      "\u001b[1;31mFileNotFoundError\u001b[0m: [Errno 2] No such file or directory: '/content/drive/MyDrive/AutopilotDrive/dataset//datasets_mod.csv'"
     ]
    }
   ],
   "source": [
    "target_dataset = \"/content/drive/MyDrive/AutopilotDrive/dataset/\"\n",
    "df = pd.read_csv(target_dataset + \"/datasets_mod.csv\")"
   ]
  },
  {
   "cell_type": "code",
   "execution_count": null,
   "metadata": {
    "id": "AqgNmcpgeMHi"
   },
   "outputs": [],
   "source": [
    "from keras.preprocessing import image\n",
    "from keras.preprocessing.image import ImageDataGenerator,load_img,img_to_array # Image Related\n",
    "\n",
    "random_indices = np.random.randint(low=0, high=len(df), size=100)\n",
    "\n",
    "X_train = np.array([img_to_arr(target_dataset + \"../\" + image_name) for image_name in df['drive_view'].iloc[random_indices]])"
   ]
  },
  {
   "cell_type": "code",
   "execution_count": null,
   "metadata": {
    "id": "MVfQrl7FIQJs"
   },
   "outputs": [],
   "source": [
    "from sklearn.preprocessing import StandardScaler\n",
    "\n",
    "for i in range(len(random_indices)):\n",
    "    scaler_R = StandardScaler().fit(X_train[i][:,:,0])\n",
    "    scaler_G = StandardScaler().fit(X_train[i][:,:,1])\n",
    "    scaler_B = StandardScaler().fit(X_train[i][:,:,2])\n",
    "\n",
    "def normalize(img):\n",
    "    img[:,:,0] = scaler_R.transform(img[:,:,0])\n",
    "    img[:,:,1] = scaler_G.transform(img[:,:,1])\n",
    "    img[:,:,2] = scaler_B.transform(img[:,:,2])\n",
    "    return img"
   ]
  },
  {
   "cell_type": "code",
   "execution_count": null,
   "metadata": {
    "id": "b_h4pmPf_qd_"
   },
   "outputs": [],
   "source": [
    "# define generator that loops through the data\n",
    "def generator(df, batch_size, img_shape, should_shuffle):\n",
    "    # shuffle dataframe for each epoch\n",
    "    if should_shuffle:\n",
    "        df = shuffle(df)\n",
    "        \n",
    "    img_list = df['drive_view']\n",
    "    steer = df['control']\n",
    "    \n",
    "    # create empty batch\n",
    "    batch_img = np.zeros((batch_size,) + img_shape)\n",
    "    batch_label = np.zeros((batch_size, 1))\n",
    "    \n",
    "    index = 0\n",
    "    while True:\n",
    "        for i in range(batch_size):\n",
    "            img_name = img_list[index]\n",
    "            arr = img_to_arr(target_dataset + \"../\" + img_name)\n",
    "            \n",
    "            batch_img[i] = normalize(arr, scaler_R, scaler_G, scaler_B)\n",
    "            batch_label[i] = steer[index]\n",
    "            \n",
    "            index += 1\n",
    "            if index == len(img_list):\n",
    "                index = 0\n",
    "            \n",
    "        yield batch_img, batch_label"
   ]
  },
  {
   "cell_type": "code",
   "execution_count": null,
   "metadata": {
    "colab": {
     "base_uri": "https://localhost:8080/",
     "height": 204
    },
    "id": "zGN7iNorsw3p",
    "outputId": "784a97da-d8ac-4dfc-9d14-c6c10754ebd5"
   },
   "outputs": [
    {
     "data": {
      "text/html": [
       "<div>\n",
       "<style scoped>\n",
       "    .dataframe tbody tr th:only-of-type {\n",
       "        vertical-align: middle;\n",
       "    }\n",
       "\n",
       "    .dataframe tbody tr th {\n",
       "        vertical-align: top;\n",
       "    }\n",
       "\n",
       "    .dataframe thead th {\n",
       "        text-align: right;\n",
       "    }\n",
       "</style>\n",
       "<table border=\"1\" class=\"dataframe\">\n",
       "  <thead>\n",
       "    <tr style=\"text-align: right;\">\n",
       "      <th></th>\n",
       "      <th>Unnamed: 0</th>\n",
       "      <th>Unnamed: 0.1</th>\n",
       "      <th>Unnamed: 0.1.1</th>\n",
       "      <th>drive_view</th>\n",
       "      <th>control</th>\n",
       "    </tr>\n",
       "  </thead>\n",
       "  <tbody>\n",
       "    <tr>\n",
       "      <th>0</th>\n",
       "      <td>0</td>\n",
       "      <td>0</td>\n",
       "      <td>1</td>\n",
       "      <td>./dataset/210119_12-14-48_data/imgs/drive_view...</td>\n",
       "      <td>3</td>\n",
       "    </tr>\n",
       "    <tr>\n",
       "      <th>1</th>\n",
       "      <td>1</td>\n",
       "      <td>1</td>\n",
       "      <td>2</td>\n",
       "      <td>./dataset/210119_12-14-48_data/imgs/drive_view...</td>\n",
       "      <td>3</td>\n",
       "    </tr>\n",
       "    <tr>\n",
       "      <th>2</th>\n",
       "      <td>2</td>\n",
       "      <td>2</td>\n",
       "      <td>3</td>\n",
       "      <td>./dataset/210119_12-14-48_data/imgs/drive_view...</td>\n",
       "      <td>1</td>\n",
       "    </tr>\n",
       "    <tr>\n",
       "      <th>3</th>\n",
       "      <td>3</td>\n",
       "      <td>3</td>\n",
       "      <td>4</td>\n",
       "      <td>./dataset/210119_12-14-48_data/imgs/drive_view...</td>\n",
       "      <td>1</td>\n",
       "    </tr>\n",
       "    <tr>\n",
       "      <th>4</th>\n",
       "      <td>4</td>\n",
       "      <td>4</td>\n",
       "      <td>5</td>\n",
       "      <td>./dataset/210119_12-14-48_data/imgs/drive_view...</td>\n",
       "      <td>1</td>\n",
       "    </tr>\n",
       "  </tbody>\n",
       "</table>\n",
       "</div>"
      ],
      "text/plain": [
       "   Unnamed: 0  ...  control\n",
       "0           0  ...        3\n",
       "1           1  ...        3\n",
       "2           2  ...        1\n",
       "3           3  ...        1\n",
       "4           4  ...        1\n",
       "\n",
       "[5 rows x 5 columns]"
      ]
     },
     "execution_count": 24,
     "metadata": {
      "tags": []
     },
     "output_type": "execute_result"
    }
   ],
   "source": [
    "df.head()"
   ]
  },
  {
   "cell_type": "code",
   "execution_count": null,
   "metadata": {
    "id": "ab6f1B2yAtD9"
   },
   "outputs": [],
   "source": [
    "from sklearn.model_selection import train_test_split\n",
    "\n",
    "df_train, df_valid = train_test_split(df, test_size = 0.2)"
   ]
  },
  {
   "cell_type": "code",
   "execution_count": null,
   "metadata": {
    "colab": {
     "base_uri": "https://localhost:8080/",
     "height": 204
    },
    "id": "pgaDuBDgEQy3",
    "outputId": "9b29c9b6-2931-43b9-be08-154df9aba1de"
   },
   "outputs": [
    {
     "data": {
      "text/html": [
       "<div>\n",
       "<style scoped>\n",
       "    .dataframe tbody tr th:only-of-type {\n",
       "        vertical-align: middle;\n",
       "    }\n",
       "\n",
       "    .dataframe tbody tr th {\n",
       "        vertical-align: top;\n",
       "    }\n",
       "\n",
       "    .dataframe thead th {\n",
       "        text-align: right;\n",
       "    }\n",
       "</style>\n",
       "<table border=\"1\" class=\"dataframe\">\n",
       "  <thead>\n",
       "    <tr style=\"text-align: right;\">\n",
       "      <th></th>\n",
       "      <th>Unnamed: 0</th>\n",
       "      <th>Unnamed: 0.1</th>\n",
       "      <th>Unnamed: 0.1.1</th>\n",
       "      <th>drive_view</th>\n",
       "      <th>control</th>\n",
       "    </tr>\n",
       "  </thead>\n",
       "  <tbody>\n",
       "    <tr>\n",
       "      <th>17391</th>\n",
       "      <td>19245</td>\n",
       "      <td>8465</td>\n",
       "      <td>19246</td>\n",
       "      <td>./dataset/210119_12-16-36_data/imgs/drive_view...</td>\n",
       "      <td>0</td>\n",
       "    </tr>\n",
       "    <tr>\n",
       "      <th>17524</th>\n",
       "      <td>19378</td>\n",
       "      <td>8598</td>\n",
       "      <td>19379</td>\n",
       "      <td>./dataset/210119_12-16-36_data/imgs/drive_view...</td>\n",
       "      <td>1</td>\n",
       "    </tr>\n",
       "    <tr>\n",
       "      <th>64483</th>\n",
       "      <td>72823</td>\n",
       "      <td>2562</td>\n",
       "      <td>72824</td>\n",
       "      <td>./dataset/210126_07-25-00_data/imgs/drive_view...</td>\n",
       "      <td>1</td>\n",
       "    </tr>\n",
       "    <tr>\n",
       "      <th>1974</th>\n",
       "      <td>2157</td>\n",
       "      <td>2157</td>\n",
       "      <td>2158</td>\n",
       "      <td>./dataset/210119_12-14-48_data/imgs/drive_view...</td>\n",
       "      <td>1</td>\n",
       "    </tr>\n",
       "    <tr>\n",
       "      <th>26831</th>\n",
       "      <td>28685</td>\n",
       "      <td>562</td>\n",
       "      <td>28686</td>\n",
       "      <td>./dataset/210119_12-24-51_data/imgs/drive_view...</td>\n",
       "      <td>0</td>\n",
       "    </tr>\n",
       "  </tbody>\n",
       "</table>\n",
       "</div>"
      ],
      "text/plain": [
       "       Unnamed: 0  ...  control\n",
       "17391       19245  ...        0\n",
       "17524       19378  ...        1\n",
       "64483       72823  ...        1\n",
       "1974         2157  ...        1\n",
       "26831       28685  ...        0\n",
       "\n",
       "[5 rows x 5 columns]"
      ]
     },
     "execution_count": 26,
     "metadata": {
      "tags": []
     },
     "output_type": "execute_result"
    }
   ],
   "source": [
    "df_train.head()"
   ]
  },
  {
   "cell_type": "code",
   "execution_count": null,
   "metadata": {
    "colab": {
     "base_uri": "https://localhost:8080/",
     "height": 35
    },
    "id": "Fb3rXnWHEWvs",
    "outputId": "e10983ff-0584-4ae7-9642-5ebff5bc29a2"
   },
   "outputs": [
    {
     "data": {
      "application/vnd.google.colaboratory.intrinsic+json": {
       "type": "string"
      },
      "text/plain": [
       "'./dataset/210119_12-16-36_data/imgs/drive_view8465.jpg'"
      ]
     },
     "execution_count": 27,
     "metadata": {
      "tags": []
     },
     "output_type": "execute_result"
    }
   ],
   "source": [
    "df_train['drive_view'].iloc[0]"
   ]
  },
  {
   "cell_type": "code",
   "execution_count": null,
   "metadata": {
    "colab": {
     "base_uri": "https://localhost:8080/"
    },
    "id": "N8Zqjk3aAak1",
    "outputId": "1102f003-5b5e-48c4-c0d8-cf5579257f7f"
   },
   "outputs": [
    {
     "name": "stdout",
     "output_type": "stream",
     "text": [
      "input_shape: (256, 455, 3), batch_size: 32, train_steps: 1775, val_steps: 444\n"
     ]
    }
   ],
   "source": [
    "sample_image = img_to_arr(target_dataset + \"../\" + df_train['drive_view'].iloc[0])\n",
    "input_shape = sample_image.shape\n",
    "batch_size = 32\n",
    "train_steps = (df_train.shape[0] / batch_size) + 1\n",
    "val_steps = (df_valid.shape[0] / batch_size) + 1\n",
    "\n",
    "print(\"input_shape: %s, batch_size: %d, train_steps: %d, val_steps: %d\" % \n",
    "      (input_shape, batch_size, train_steps, val_steps))"
   ]
  },
  {
   "cell_type": "code",
   "execution_count": null,
   "metadata": {
    "id": "f3tjsRo-BadG"
   },
   "outputs": [],
   "source": [
    "train_batch = generator(df_train, batch_size, input_shape, True)\n",
    "val_batch = generator(df_valid, batch_size, input_shape, False)"
   ]
  },
  {
   "cell_type": "markdown",
   "metadata": {
    "id": "EkhDzeinlicQ"
   },
   "source": [
    "# Define Sequential Model"
   ]
  },
  {
   "cell_type": "code",
   "execution_count": null,
   "metadata": {
    "colab": {
     "base_uri": "https://localhost:8080/"
    },
    "id": "16xeasSVL1mK",
    "outputId": "aab263b2-fb87-4da7-b158-e9a1f81e7b1c",
    "scrolled": true
   },
   "outputs": [
    {
     "name": "stdout",
     "output_type": "stream",
     "text": [
      "Model: \"sequential\"\n",
      "_________________________________________________________________\n",
      "Layer (type)                 Output Shape              Param #   \n",
      "=================================================================\n",
      "conv2d (Conv2D)              (None, 98, 31, 24)        1824      \n",
      "_________________________________________________________________\n",
      "conv2d_1 (Conv2D)            (None, 47, 14, 36)        21636     \n",
      "_________________________________________________________________\n",
      "conv2d_2 (Conv2D)            (None, 22, 5, 48)         43248     \n",
      "_________________________________________________________________\n",
      "conv2d_3 (Conv2D)            (None, 20, 3, 64)         27712     \n",
      "_________________________________________________________________\n",
      "conv2d_4 (Conv2D)            (None, 18, 1, 64)         36928     \n",
      "_________________________________________________________________\n",
      "flatten (Flatten)            (None, 1152)              0         \n",
      "_________________________________________________________________\n",
      "dense (Dense)                (None, 1152)              1328256   \n",
      "_________________________________________________________________\n",
      "dropout (Dropout)            (None, 1152)              0         \n",
      "_________________________________________________________________\n",
      "dense_1 (Dense)              (None, 100)               115300    \n",
      "_________________________________________________________________\n",
      "dropout_1 (Dropout)          (None, 100)               0         \n",
      "_________________________________________________________________\n",
      "dense_2 (Dense)              (None, 50)                5050      \n",
      "_________________________________________________________________\n",
      "dropout_2 (Dropout)          (None, 50)                0         \n",
      "_________________________________________________________________\n",
      "dense_3 (Dense)              (None, 10)                510       \n",
      "_________________________________________________________________\n",
      "dropout_3 (Dropout)          (None, 10)                0         \n",
      "_________________________________________________________________\n",
      "dense_4 (Dense)              (None, 5)                 55        \n",
      "=================================================================\n",
      "Total params: 1,580,519\n",
      "Trainable params: 1,580,519\n",
      "Non-trainable params: 0\n",
      "_________________________________________________________________\n"
     ]
    }
   ],
   "source": [
    "drop_out_rate = 0.2\n",
    "\n",
    "model = models.Sequential()\n",
    "# model.add(Rescaling(scale=1./255))\n",
    "\n",
    "# three Conv2D layers with 5 x 5 kernels, and 2 x 2 strides\n",
    "model.add(Conv2D(filters=24, kernel_size=(5, 5), strides=(2, 2),\n",
    "                              padding='valid', activation='relu', input_shape=(200, 66, 3)))\n",
    "model.add(Conv2D(filters=36, kernel_size=(5, 5), strides=(2, 2),\n",
    "                              padding='valid', activation='relu'))\n",
    "model.add(Conv2D(filters=48, kernel_size=(5, 5), strides=(2, 2),\n",
    "                              padding='valid', activation='relu'))\n",
    "\n",
    "# two Conv2D layers with 3 x 3 kernels, and no strides\n",
    "model.add(Conv2D(filters=64, kernel_size=(3, 3),\n",
    "                              padding='valid', activation='relu'))\n",
    "model.add(Conv2D(filters=64, kernel_size=(3, 3),\n",
    "                              padding='valid', activation='relu'))\n",
    "\n",
    "# and data flows to three fully-connected layers\n",
    "model.add(Flatten())   # (None, 1152)\n",
    "model.add(Dense(units=1152))\n",
    "model.add(Dropout(rate=drop_out_rate))\n",
    "model.add(Dense(units=100))\n",
    "model.add(Dropout(rate=drop_out_rate))\n",
    "model.add(Dense(units=50))\n",
    "model.add(Dropout(rate=drop_out_rate))\n",
    "model.add(Dense(units=10))\n",
    "model.add(Dropout(rate=drop_out_rate))\n",
    "model.add(Dense(units=5, activation='softmax'))\n",
    "\n",
    "# build the pilotNet model\n",
    "model.build(input_shape=(None, 200, 66, 3))\n",
    "\n",
    "model.summary()"
   ]
  },
  {
   "cell_type": "code",
   "execution_count": null,
   "metadata": {
    "id": "6Po1fP6_L6a2"
   },
   "outputs": [],
   "source": [
    "model.compile(optimizer='adam',\n",
    "                loss='cross_entropy',\n",
    "                metrics=['f1_score'])"
   ]
  },
  {
   "cell_type": "code",
   "execution_count": null,
   "metadata": {
    "id": "v5TLazMtC8Bl"
   },
   "outputs": [],
   "source": [
    "model_path = target_dataset + \"/model\"\n",
    "# define callbacks\n",
    "cur_model = 'PilotNet_v1'\n",
    "csv_logger = CSVLogger(os.path.join(\"./\", cur_model + '.log'))\n",
    "\n",
    "model_file_name= os.path.join(model_path, cur_model + '-{epoch:03d}-{val_loss:.5f}.h5')\n",
    "checkpoint = ModelCheckpoint(model_file_name, verbose=0, save_best_only=True)"
   ]
  },
  {
   "cell_type": "code",
   "execution_count": null,
   "metadata": {
    "colab": {
     "base_uri": "https://localhost:8080/"
    },
    "id": "T_BfVlnFDEWs",
    "outputId": "a8528f00-b1d2-40a2-9014-905c9a2a8681"
   },
   "outputs": [
    {
     "name": "stdout",
     "output_type": "stream",
     "text": [
      "<class 'generator'>\n"
     ]
    }
   ],
   "source": [
    "print(type(train_batch))"
   ]
  },
  {
   "cell_type": "code",
   "execution_count": null,
   "metadata": {
    "colab": {
     "base_uri": "https://localhost:8080/",
     "height": 394
    },
    "id": "BiEsMSXhDJJ0",
    "outputId": "6e442103-2299-471b-a1f2-b68b8d92ccb7"
   },
   "outputs": [
    {
     "name": "stderr",
     "output_type": "stream",
     "text": [
      "/usr/local/lib/python3.6/dist-packages/tensorflow/python/keras/engine/training.py:1844: UserWarning: `Model.fit_generator` is deprecated and will be removed in a future version. Please use `Model.fit`, which supports generators.\n",
      "  warnings.warn('`Model.fit_generator` is deprecated and '\n"
     ]
    },
    {
     "ename": "StopIteration",
     "evalue": "ignored",
     "output_type": "error",
     "traceback": [
      "\u001b[0;31m---------------------------------------------------------------------------\u001b[0m",
      "\u001b[0;31mStopIteration\u001b[0m                             Traceback (most recent call last)",
      "\u001b[0;32m<ipython-input-37-4cf42d7624dd>\u001b[0m in \u001b[0;36m<module>\u001b[0;34m()\u001b[0m\n\u001b[1;32m      2\u001b[0m                     \u001b[0mcallbacks\u001b[0m\u001b[0;34m=\u001b[0m\u001b[0;34m[\u001b[0m\u001b[0mcsv_logger\u001b[0m\u001b[0;34m,\u001b[0m \u001b[0mcheckpoint\u001b[0m\u001b[0;34m]\u001b[0m\u001b[0;34m,\u001b[0m\u001b[0;34m\u001b[0m\u001b[0;34m\u001b[0m\u001b[0m\n\u001b[1;32m      3\u001b[0m                     \u001b[0mvalidation_data\u001b[0m\u001b[0;34m=\u001b[0m\u001b[0mval_batch\u001b[0m\u001b[0;34m,\u001b[0m\u001b[0;34m\u001b[0m\u001b[0;34m\u001b[0m\u001b[0m\n\u001b[0;32m----> 4\u001b[0;31m                     validation_steps=val_steps)\n\u001b[0m",
      "\u001b[0;32m/usr/local/lib/python3.6/dist-packages/tensorflow/python/keras/engine/training.py\u001b[0m in \u001b[0;36mfit_generator\u001b[0;34m(self, generator, steps_per_epoch, epochs, verbose, callbacks, validation_data, validation_steps, validation_freq, class_weight, max_queue_size, workers, use_multiprocessing, shuffle, initial_epoch)\u001b[0m\n\u001b[1;32m   1859\u001b[0m         \u001b[0muse_multiprocessing\u001b[0m\u001b[0;34m=\u001b[0m\u001b[0muse_multiprocessing\u001b[0m\u001b[0;34m,\u001b[0m\u001b[0;34m\u001b[0m\u001b[0;34m\u001b[0m\u001b[0m\n\u001b[1;32m   1860\u001b[0m         \u001b[0mshuffle\u001b[0m\u001b[0;34m=\u001b[0m\u001b[0mshuffle\u001b[0m\u001b[0;34m,\u001b[0m\u001b[0;34m\u001b[0m\u001b[0;34m\u001b[0m\u001b[0m\n\u001b[0;32m-> 1861\u001b[0;31m         initial_epoch=initial_epoch)\n\u001b[0m\u001b[1;32m   1862\u001b[0m \u001b[0;34m\u001b[0m\u001b[0m\n\u001b[1;32m   1863\u001b[0m   def evaluate_generator(self,\n",
      "\u001b[0;32m/usr/local/lib/python3.6/dist-packages/tensorflow/python/keras/engine/training.py\u001b[0m in \u001b[0;36mfit\u001b[0;34m(self, x, y, batch_size, epochs, verbose, callbacks, validation_split, validation_data, shuffle, class_weight, sample_weight, initial_epoch, steps_per_epoch, validation_steps, validation_batch_size, validation_freq, max_queue_size, workers, use_multiprocessing)\u001b[0m\n\u001b[1;32m   1062\u001b[0m           \u001b[0muse_multiprocessing\u001b[0m\u001b[0;34m=\u001b[0m\u001b[0muse_multiprocessing\u001b[0m\u001b[0;34m,\u001b[0m\u001b[0;34m\u001b[0m\u001b[0;34m\u001b[0m\u001b[0m\n\u001b[1;32m   1063\u001b[0m           \u001b[0mmodel\u001b[0m\u001b[0;34m=\u001b[0m\u001b[0mself\u001b[0m\u001b[0;34m,\u001b[0m\u001b[0;34m\u001b[0m\u001b[0;34m\u001b[0m\u001b[0m\n\u001b[0;32m-> 1064\u001b[0;31m           steps_per_execution=self._steps_per_execution)\n\u001b[0m\u001b[1;32m   1065\u001b[0m \u001b[0;34m\u001b[0m\u001b[0m\n\u001b[1;32m   1066\u001b[0m       \u001b[0;31m# Container that configures and calls `tf.keras.Callback`s.\u001b[0m\u001b[0;34m\u001b[0m\u001b[0;34m\u001b[0m\u001b[0;34m\u001b[0m\u001b[0m\n",
      "\u001b[0;32m/usr/local/lib/python3.6/dist-packages/tensorflow/python/keras/engine/data_adapter.py\u001b[0m in \u001b[0;36m__init__\u001b[0;34m(self, x, y, sample_weight, batch_size, steps_per_epoch, initial_epoch, epochs, shuffle, class_weight, max_queue_size, workers, use_multiprocessing, model, steps_per_execution)\u001b[0m\n\u001b[1;32m   1110\u001b[0m         \u001b[0muse_multiprocessing\u001b[0m\u001b[0;34m=\u001b[0m\u001b[0muse_multiprocessing\u001b[0m\u001b[0;34m,\u001b[0m\u001b[0;34m\u001b[0m\u001b[0;34m\u001b[0m\u001b[0m\n\u001b[1;32m   1111\u001b[0m         \u001b[0mdistribution_strategy\u001b[0m\u001b[0;34m=\u001b[0m\u001b[0mds_context\u001b[0m\u001b[0;34m.\u001b[0m\u001b[0mget_strategy\u001b[0m\u001b[0;34m(\u001b[0m\u001b[0;34m)\u001b[0m\u001b[0;34m,\u001b[0m\u001b[0;34m\u001b[0m\u001b[0;34m\u001b[0m\u001b[0m\n\u001b[0;32m-> 1112\u001b[0;31m         model=model)\n\u001b[0m\u001b[1;32m   1113\u001b[0m \u001b[0;34m\u001b[0m\u001b[0m\n\u001b[1;32m   1114\u001b[0m     \u001b[0mstrategy\u001b[0m \u001b[0;34m=\u001b[0m \u001b[0mds_context\u001b[0m\u001b[0;34m.\u001b[0m\u001b[0mget_strategy\u001b[0m\u001b[0;34m(\u001b[0m\u001b[0;34m)\u001b[0m\u001b[0;34m\u001b[0m\u001b[0;34m\u001b[0m\u001b[0m\n",
      "\u001b[0;32m/usr/local/lib/python3.6/dist-packages/tensorflow/python/keras/engine/data_adapter.py\u001b[0m in \u001b[0;36m__init__\u001b[0;34m(self, x, y, sample_weights, workers, use_multiprocessing, max_queue_size, model, **kwargs)\u001b[0m\n\u001b[1;32m    777\u001b[0m     \u001b[0;31m# Since we have to know the dtype of the python generator when we build the\u001b[0m\u001b[0;34m\u001b[0m\u001b[0;34m\u001b[0m\u001b[0;34m\u001b[0m\u001b[0m\n\u001b[1;32m    778\u001b[0m     \u001b[0;31m# dataset, we have to look at a batch to infer the structure.\u001b[0m\u001b[0;34m\u001b[0m\u001b[0;34m\u001b[0m\u001b[0;34m\u001b[0m\u001b[0m\n\u001b[0;32m--> 779\u001b[0;31m     \u001b[0mpeek\u001b[0m\u001b[0;34m,\u001b[0m \u001b[0mx\u001b[0m \u001b[0;34m=\u001b[0m \u001b[0mself\u001b[0m\u001b[0;34m.\u001b[0m\u001b[0m_peek_and_restore\u001b[0m\u001b[0;34m(\u001b[0m\u001b[0mx\u001b[0m\u001b[0;34m)\u001b[0m\u001b[0;34m\u001b[0m\u001b[0;34m\u001b[0m\u001b[0m\n\u001b[0m\u001b[1;32m    780\u001b[0m     \u001b[0mpeek\u001b[0m \u001b[0;34m=\u001b[0m \u001b[0mself\u001b[0m\u001b[0;34m.\u001b[0m\u001b[0m_standardize_batch\u001b[0m\u001b[0;34m(\u001b[0m\u001b[0mpeek\u001b[0m\u001b[0;34m)\u001b[0m\u001b[0;34m\u001b[0m\u001b[0;34m\u001b[0m\u001b[0m\n\u001b[1;32m    781\u001b[0m     \u001b[0mpeek\u001b[0m \u001b[0;34m=\u001b[0m \u001b[0m_process_tensorlike\u001b[0m\u001b[0;34m(\u001b[0m\u001b[0mpeek\u001b[0m\u001b[0;34m)\u001b[0m\u001b[0;34m\u001b[0m\u001b[0;34m\u001b[0m\u001b[0m\n",
      "\u001b[0;32m/usr/local/lib/python3.6/dist-packages/tensorflow/python/keras/engine/data_adapter.py\u001b[0m in \u001b[0;36m_peek_and_restore\u001b[0;34m(x)\u001b[0m\n\u001b[1;32m    834\u001b[0m   \u001b[0;34m@\u001b[0m\u001b[0mstaticmethod\u001b[0m\u001b[0;34m\u001b[0m\u001b[0;34m\u001b[0m\u001b[0m\n\u001b[1;32m    835\u001b[0m   \u001b[0;32mdef\u001b[0m \u001b[0m_peek_and_restore\u001b[0m\u001b[0;34m(\u001b[0m\u001b[0mx\u001b[0m\u001b[0;34m)\u001b[0m\u001b[0;34m:\u001b[0m\u001b[0;34m\u001b[0m\u001b[0;34m\u001b[0m\u001b[0m\n\u001b[0;32m--> 836\u001b[0;31m     \u001b[0mpeek\u001b[0m \u001b[0;34m=\u001b[0m \u001b[0mnext\u001b[0m\u001b[0;34m(\u001b[0m\u001b[0mx\u001b[0m\u001b[0;34m)\u001b[0m\u001b[0;34m\u001b[0m\u001b[0;34m\u001b[0m\u001b[0m\n\u001b[0m\u001b[1;32m    837\u001b[0m     \u001b[0;32mreturn\u001b[0m \u001b[0mpeek\u001b[0m\u001b[0;34m,\u001b[0m \u001b[0mitertools\u001b[0m\u001b[0;34m.\u001b[0m\u001b[0mchain\u001b[0m\u001b[0;34m(\u001b[0m\u001b[0;34m[\u001b[0m\u001b[0mpeek\u001b[0m\u001b[0;34m]\u001b[0m\u001b[0;34m,\u001b[0m \u001b[0mx\u001b[0m\u001b[0;34m)\u001b[0m\u001b[0;34m\u001b[0m\u001b[0;34m\u001b[0m\u001b[0m\n\u001b[1;32m    838\u001b[0m \u001b[0;34m\u001b[0m\u001b[0m\n",
      "\u001b[0;31mStopIteration\u001b[0m: "
     ]
    }
   ],
   "source": [
    "model.fit_generator(train_batch, train_steps, epochs=20, verbose=1, \n",
    "                    callbacks=[csv_logger, checkpoint], \n",
    "                    validation_data=val_batch, \n",
    "                    validation_steps=val_steps)"
   ]
  },
  {
   "cell_type": "markdown",
   "metadata": {
    "id": "9ti4AFXGtFZx"
   },
   "source": [
    "## Training Model"
   ]
  },
  {
   "cell_type": "code",
   "execution_count": null,
   "metadata": {
    "id": "qJuQqek8tGgr"
   },
   "outputs": [],
   "source": []
  }
 ],
 "metadata": {
  "colab": {
   "collapsed_sections": [],
   "include_colab_link": true,
   "name": "pilotNet.ipynb",
   "provenance": []
  },
  "kernelspec": {
   "display_name": "Python 3",
   "language": "python",
   "name": "python3"
  },
  "language_info": {
   "codemirror_mode": {
    "name": "ipython",
    "version": 3
   },
   "file_extension": ".py",
   "mimetype": "text/x-python",
   "name": "python",
   "nbconvert_exporter": "python",
   "pygments_lexer": "ipython3",
   "version": "3.8.5-final"
  }
 },
 "nbformat": 4,
 "nbformat_minor": 1
}